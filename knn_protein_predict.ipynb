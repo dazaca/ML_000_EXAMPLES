{
  "nbformat": 4,
  "nbformat_minor": 0,
  "metadata": {
    "colab": {
      "provenance": [],
      "authorship_tag": "ABX9TyMdibRFbusJp6ntBGfaF/FK",
      "include_colab_link": true
    },
    "kernelspec": {
      "name": "python3",
      "display_name": "Python 3"
    },
    "language_info": {
      "name": "python"
    }
  },
  "cells": [
    {
      "cell_type": "markdown",
      "metadata": {
        "id": "view-in-github",
        "colab_type": "text"
      },
      "source": [
        "<a href=\"https://colab.research.google.com/github/dazaca/ML_000_EXAMPLES/blob/main/knn_protein_predict.ipynb\" target=\"_parent\"><img src=\"https://colab.research.google.com/assets/colab-badge.svg\" alt=\"Open In Colab\"/></a>"
      ]
    },
    {
      "cell_type": "markdown",
      "source": [
        "# 1 - Algoritmo k-NN"
      ],
      "metadata": {
        "id": "tjbc8hZ0Midq"
      }
    },
    {
      "cell_type": "code",
      "execution_count": null,
      "metadata": {
        "id": "ogH1alTCIlgV"
      },
      "outputs": [],
      "source": [
        "# Ejemplo de los 6 primeros registros:\n",
        "\n",
        "# V1 V2 V3 V4 V5 V6 V7 V8 V9 V10 V11 V12 V13 V14 V15 V16 V17 V18\n",
        "# 1 G V G T V P M T D Y G N D V E Y Y _\n",
        "# 2 V G T V P M T D Y G N D V E Y Y G _\n",
        "# 3 G T V P M T D Y G N D V E Y Y G Q _\n",
        "# 4 T V P M T D Y G N D V E Y Y G Q V _\n",
        "# 5 V P M T D Y G N D V E Y Y G Q V T _\n",
        "# 6 P M T D Y G N D V E Y Y G Q V T I _\n",
        "\n",
        "# El vector de entrada (input) de los métodos tendrá 17 · 20 = 340 componentes.\n",
        "# Ejemplo de la codificación one-hot del primer registro en la lista anterior:\n",
        "\n",
        "# [1] 0 0 0 0 0 0 0 1 0 0 0 0 0 0 0 0 0 0 0 0 0 0 0 0 0 0 0 0 0 0 0 0 0 0 0 0 0\n",
        "# [38] 0 0 1 0 0 0 0 0 0 0 1 0 0 0 0 0 0 0 0 0 0 0 0 0 0 0 0 0 0 0 0 0 0 0 0 0 0\n",
        "# [75] 0 0 1 0 0 0 0 0 0 0 0 0 0 0 0 0 0 0 0 0 0 0 0 0 0 1 0 0 0 0 0 0 0 0 0 0 0\n",
        "# [112] 0 0 0 1 0 0 0 0 0 0 0 0 0 0 0 0 0 0 0 0 0 1 0 0 0 0 0 0 0 0 0 0 0 0 0 0 0\n",
        "# [149] 0 0 0 0 0 0 0 0 1 0 0 0 0 0 0 1 0 0 0 0 0 0 0 0 0 0 0 0 0 0 0 0 0 0 0 0 0\n",
        "# [186] 0 0 0 0 0 0 0 0 0 0 0 0 0 1 0 0 0 0 0 0 0 0 1 0 0 0 0 0 0 0 0 0 0 0 0 0 0\n",
        "# [223] 1 0 0 0 0 0 0 0 0 0 0 0 0 0 0 0 0 0 0 0 0 1 0 0 0 0 0 0 0 0 0 0 0 0 0 0 0\n",
        "# [260] 0 0 0 0 0 0 0 0 0 0 0 0 0 0 0 0 0 0 0 0 1 0 0 0 0 0 0 1 0 0 0 0 0 0 0 0 0\n",
        "# [297] 0 0 0 0 0 0 0 0 0 0 0 0 0 0 0 0 0 0 0 0 0 0 1 0 0 0 0 0 0 0 0 0 0 0 0 0 0\n",
        "# [334] 0 0 0 0 0 1 0"
      ]
    },
    {
      "cell_type": "markdown",
      "source": [
        "# 2 - Función de codificación 'one-hot'"
      ],
      "metadata": {
        "id": "HEQE7bWANkjK"
      }
    },
    {
      "cell_type": "code",
      "source": [
        "# Librerías:\n",
        "import csv # Librería \"csv\": nos permitirá trabajar con archivos csv.\n",
        "\n",
        "# /content/sample_data/data4.csv\n",
        "\n",
        "\n",
        "\n",
        "\n",
        "\n",
        "def one_hot(ruta_csv):\n",
        "  \n",
        "\n",
        "\n",
        "# Variables:\n",
        "\n",
        "# Diccionario de aminoacidos 'aminoac'. La 'key' es la letra\n",
        "# mayúscula del aminoácido y el valor el vector binario para realizar\n",
        "# la codificación one-hot:\n",
        "\n",
        "aminoac = {\n",
        "    'A': [1, 0, 0, 0, 0, 0, 0, 0, 0, 0, 0, 0, 0, 0, 0, 0, 0, 0, 0, 0],\n",
        "    'C': [0, 1, 0, 0, 0, 0, 0, 0, 0, 0, 0, 0, 0, 0, 0, 0, 0, 0, 0, 0],\n",
        "    'D': [0, 0, 1, 0, 0, 0, 0, 0, 0, 0, 0, 0, 0, 0, 0, 0, 0, 0, 0, 0],\n",
        "    'E': [0, 0, 0, 1, 0, 0, 0, 0, 0, 0, 0, 0, 0, 0, 0, 0, 0, 0, 0, 0],\n",
        "    'F': [0, 0, 0, 0, 1, 0, 0, 0, 0, 0, 0, 0, 0, 0, 0, 0, 0, 0, 0, 0],\n",
        "    'G': [0, 0, 0, 0, 0, 1, 0, 0, 0, 0, 0, 0, 0, 0, 0, 0, 0, 0, 0, 0],\n",
        "    'H': [0, 0, 0, 0, 0, 0, 1, 0, 0, 0, 0, 0, 0, 0, 0, 0, 0, 0, 0, 0],\n",
        "    'I': [0, 0, 0, 0, 0, 0, 0, 1, 0, 0, 0, 0, 0, 0, 0, 0, 0, 0, 0, 0],\n",
        "    'K': [0, 0, 0, 0, 0, 0, 0, 0, 1, 0, 0, 0, 0, 0, 0, 0, 0, 0, 0, 0],\n",
        "    'L': [0, 0, 0, 0, 0, 0, 0, 0, 0, 1, 0, 0, 0, 0, 0, 0, 0, 0, 0, 0],\n",
        "    'M': [0, 0, 0, 0, 0, 0, 0, 0, 0, 0, 1, 0, 0, 0, 0, 0, 0, 0, 0, 0],\n",
        "    'N': [0, 0, 0, 0, 0, 0, 0, 0, 0, 0, 0, 1, 0, 0, 0, 0, 0, 0, 0, 0],\n",
        "    'P': [0, 0, 0, 0, 0, 0, 0, 0, 0, 0, 0, 0, 1, 0, 0, 0, 0, 0, 0, 0],\n",
        "    'Q': [0, 0, 0, 0, 0, 0, 0, 0, 0, 0, 0, 0, 0, 1, 0, 0, 0, 0, 0, 0],\n",
        "    'R': [0, 0, 0, 0, 0, 0, 0, 0, 0, 0, 0, 0, 0, 0, 1, 0, 0, 0, 0, 0],\n",
        "    'S': [0, 0, 0, 0, 0, 0, 0, 0, 0, 0, 0, 0, 0, 0, 0, 1, 0, 0, 0, 0],\n",
        "    'T': [0, 0, 0, 0, 0, 0, 0, 0, 0, 0, 0, 0, 0, 0, 0, 0, 1, 0, 0, 0],\n",
        "    'V': [0, 0, 0, 0, 0, 0, 0, 0, 0, 0, 0, 0, 0, 0, 0, 0, 0, 1, 0, 0],\n",
        "    'W': [0, 0, 0, 0, 0, 0, 0, 0, 0, 0, 0, 0, 0, 0, 0, 0, 0, 0, 1, 0],\n",
        "    'Y': [0, 0, 0, 0, 0, 0, 0, 0, 0, 0, 0, 0, 0, 0, 0, 0, 0, 0, 0, 1]\n",
        "}\n",
        "\n",
        "# Array auxiliar que contendrá la matriz de aminoácidos extraída del archivo csv.\n",
        "m3 = [] \n",
        "### i = 0\n",
        "\n",
        "# Almacenamos el contenido de fichero en un array llamado 'm3':\n",
        "with open('./data4.csv', newline='') as csvfile:\n",
        "    csv_reader = csv.reader(csvfile, delimiter=';')\n",
        "    m3 = list(csv_reader)\n",
        "\n",
        "# Eliminamos la primera fila y última columna del array 'm3':\n",
        "\n",
        "### print(\"nene: \", m3[0])\n",
        "### print(\"rows->len(m3): \", len(m3))\n",
        "### print(\"columns->len(m3[0]): \", len(m3[0]))\n",
        "\n",
        "# Eliminamos la primera fila con las cabeceras.\n",
        "\n",
        "del m3[0]\n",
        "\n",
        "# Para la eliminación de la última columna del array,\n",
        "# calculamos el total de columnas (variable 'column')\n",
        "# y a continuación usamons list comprenhension para \n",
        "# acceder a cada elemento de la columna 'column' y \n",
        "# eliminarlo. El número de columnas coincide con la \n",
        "# longitud de cualquier fila. En este caso usamos la \n",
        "# primera fila:\n",
        "\n",
        "column = len(m3[0]) \n",
        "for row in m3:\n",
        "    del row[column-1]\n",
        "\n",
        "### \n",
        "### print(\"nene: \", m3[0])\n",
        "### print(\"rows->len(m3): \", len(m3))\n",
        "### print(\"columns->len(m3[0]): \", len(m3[0]))\n",
        "\n",
        "### for amino in m3:\n",
        "###   if amino not in m4:\n",
        "###     m4.append(amino)\n",
        "###     # dict[i]\n",
        "###     i += 1\n",
        "\n",
        "### print(\"i = \", i)\n",
        "### print(\"amino = \", amino)\n",
        "### print(\"len(amino) = \", len(amino))\n",
        "\n",
        "print(\"amino_acids[0] = \", amino_acids['A'])\n",
        "\n"
      ],
      "metadata": {
        "id": "GaAKB2JoOAYj"
      },
      "execution_count": null,
      "outputs": []
    },
    {
      "cell_type": "code",
      "source": [],
      "metadata": {
        "colab": {
          "base_uri": "https://localhost:8080/",
          "height": 232
        },
        "id": "cxAJ9xtLPeQj",
        "outputId": "aa46dcb4-ba1a-4b86-b086-2f03e6e64767"
      },
      "execution_count": null,
      "outputs": [
        {
          "output_type": "error",
          "ename": "IndexError",
          "evalue": "ignored",
          "traceback": [
            "\u001b[0;31m---------------------------------------------------------------------------\u001b[0m",
            "\u001b[0;31mIndexError\u001b[0m                                Traceback (most recent call last)",
            "\u001b[0;32m<ipython-input-9-65e4d4d9757f>\u001b[0m in \u001b[0;36m<cell line: 28>\u001b[0;34m()\u001b[0m\n\u001b[1;32m     28\u001b[0m \u001b[0;32mfor\u001b[0m \u001b[0mamino\u001b[0m \u001b[0;32min\u001b[0m \u001b[0mm1\u001b[0m\u001b[0;34m:\u001b[0m\u001b[0;34m\u001b[0m\u001b[0;34m\u001b[0m\u001b[0m\n\u001b[1;32m     29\u001b[0m   \u001b[0;32mif\u001b[0m \u001b[0mamino\u001b[0m \u001b[0;32mnot\u001b[0m \u001b[0;32min\u001b[0m \u001b[0mm3\u001b[0m\u001b[0;34m:\u001b[0m\u001b[0;34m\u001b[0m\u001b[0;34m\u001b[0m\u001b[0m\n\u001b[0;32m---> 30\u001b[0;31m     \u001b[0mm3\u001b[0m\u001b[0;34m[\u001b[0m\u001b[0mi\u001b[0m\u001b[0;34m]\u001b[0m \u001b[0;34m=\u001b[0m \u001b[0mamino\u001b[0m\u001b[0;34m\u001b[0m\u001b[0;34m\u001b[0m\u001b[0m\n\u001b[0m\u001b[1;32m     31\u001b[0m     \u001b[0;31m#dict[i]\u001b[0m\u001b[0;34m\u001b[0m\u001b[0;34m\u001b[0m\u001b[0m\n\u001b[1;32m     32\u001b[0m     \u001b[0mi\u001b[0m \u001b[0;34m+=\u001b[0m \u001b[0mi\u001b[0m\u001b[0;34m\u001b[0m\u001b[0;34m\u001b[0m\u001b[0m\n",
            "\u001b[0;31mIndexError\u001b[0m: list assignment index out of range"
          ]
        }
      ]
    }
  ]
}