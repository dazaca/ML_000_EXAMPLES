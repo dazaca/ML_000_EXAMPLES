{
  "nbformat": 4,
  "nbformat_minor": 0,
  "metadata": {
    "colab": {
      "provenance": [],
      "authorship_tag": "ABX9TyNNqMYwg0OnPxK6gOLLuPZu",
      "include_colab_link": true
    },
    "kernelspec": {
      "name": "python3",
      "display_name": "Python 3"
    },
    "language_info": {
      "name": "python"
    }
  },
  "cells": [
    {
      "cell_type": "markdown",
      "metadata": {
        "id": "view-in-github",
        "colab_type": "text"
      },
      "source": [
        "<a href=\"https://colab.research.google.com/github/dazaca/ML_000_EXAMPLES/blob/main/knn_protein_predict.ipynb\" target=\"_parent\"><img src=\"https://colab.research.google.com/assets/colab-badge.svg\" alt=\"Open In Colab\"/></a>"
      ]
    },
    {
      "cell_type": "markdown",
      "source": [
        "# 1 - Algoritmo k-NN"
      ],
      "metadata": {
        "id": "tjbc8hZ0Midq"
      }
    },
    {
      "cell_type": "code",
      "execution_count": null,
      "metadata": {
        "id": "ogH1alTCIlgV"
      },
      "outputs": [],
      "source": [
        "# Ejemplo de los 6 primeros registros:\n",
        "\n",
        "# V1 V2 V3 V4 V5 V6 V7 V8 V9 V10 V11 V12 V13 V14 V15 V16 V17 V18\n",
        "# 1 G V G T V P M T D Y G N D V E Y Y _\n",
        "# 2 V G T V P M T D Y G N D V E Y Y G _\n",
        "# 3 G T V P M T D Y G N D V E Y Y G Q _\n",
        "# 4 T V P M T D Y G N D V E Y Y G Q V _\n",
        "# 5 V P M T D Y G N D V E Y Y G Q V T _\n",
        "# 6 P M T D Y G N D V E Y Y G Q V T I _\n",
        "\n",
        "# El vector de entrada (input) de los métodos tendrá 17 · 20 = 340 componentes.\n",
        "# Ejemplo de la codificación one-hot del primer registro en la lista anterior:\n",
        "\n",
        "# [1] 0 0 0 0 0 0 0 1 0 0 0 0 0 0 0 0 0 0 0 0 0 0 0 0 0 0 0 0 0 0 0 0 0 0 0 0 0\n",
        "# [38] 0 0 1 0 0 0 0 0 0 0 1 0 0 0 0 0 0 0 0 0 0 0 0 0 0 0 0 0 0 0 0 0 0 0 0 0 0\n",
        "# [75] 0 0 1 0 0 0 0 0 0 0 0 0 0 0 0 0 0 0 0 0 0 0 0 0 0 1 0 0 0 0 0 0 0 0 0 0 0\n",
        "# [112] 0 0 0 1 0 0 0 0 0 0 0 0 0 0 0 0 0 0 0 0 0 1 0 0 0 0 0 0 0 0 0 0 0 0 0 0 0\n",
        "# [149] 0 0 0 0 0 0 0 0 1 0 0 0 0 0 0 1 0 0 0 0 0 0 0 0 0 0 0 0 0 0 0 0 0 0 0 0 0\n",
        "# [186] 0 0 0 0 0 0 0 0 0 0 0 0 0 1 0 0 0 0 0 0 0 0 1 0 0 0 0 0 0 0 0 0 0 0 0 0 0\n",
        "# [223] 1 0 0 0 0 0 0 0 0 0 0 0 0 0 0 0 0 0 0 0 0 1 0 0 0 0 0 0 0 0 0 0 0 0 0 0 0\n",
        "# [260] 0 0 0 0 0 0 0 0 0 0 0 0 0 0 0 0 0 0 0 0 1 0 0 0 0 0 0 1 0 0 0 0 0 0 0 0 0\n",
        "# [297] 0 0 0 0 0 0 0 0 0 0 0 0 0 0 0 0 0 0 0 0 0 0 1 0 0 0 0 0 0 0 0 0 0 0 0 0 0\n",
        "# [334] 0 0 0 0 0 1 0"
      ]
    },
    {
      "cell_type": "markdown",
      "source": [
        "# 2 - Función de codificación 'one-hot'"
      ],
      "metadata": {
        "id": "HEQE7bWANkjK"
      }
    },
    {
      "cell_type": "code",
      "source": [
        "# Librerías:\n",
        "import csv # Librería \"csv\": nos permitirá trabajar con archivos csv.\n",
        "\n",
        "\n",
        "\n",
        "\n",
        "m = []  # Variable vacía que recuperará el valor devuelto por la función \"one-hot()\"\n",
        "        # y que nos permitirá probar el valor devuelto por ésta (dimensiones y\n",
        "        # contenido).\n",
        "\n",
        "\n",
        "\n",
        "\n",
        "# Función 'one-hot()': recibe como parámetro la ruta del fichero csv 'ruta_csv'\n",
        "# y devuelve la secuencia codificada 'one-hot' de las secuencias de 17 aminoácidos\n",
        "# almacenadas en dicho fichero en forma de vectores binarios de 20 elementos por cada\n",
        "# aminoácido (array 3D en forma de lista de listas).\n",
        "\n",
        "def one_hot(ruta_csv):\n",
        " \n",
        "  # Variables -----------------------------------------------------------\n",
        "\n",
        "  # 'aminoac_dic': diccionario de aminoacidos. La 'key' es la letra\n",
        "  # mayúscula del aminoácido y el valor el vector binario para realizar\n",
        "  # la codificación one-hot:\n",
        "\n",
        "  aminoac_dic = {\n",
        "      'A': [1, 0, 0, 0, 0, 0, 0, 0, 0, 0, 0, 0, 0, 0, 0, 0, 0, 0, 0, 0],\n",
        "      'C': [0, 1, 0, 0, 0, 0, 0, 0, 0, 0, 0, 0, 0, 0, 0, 0, 0, 0, 0, 0],\n",
        "      'D': [0, 0, 1, 0, 0, 0, 0, 0, 0, 0, 0, 0, 0, 0, 0, 0, 0, 0, 0, 0],\n",
        "      'E': [0, 0, 0, 1, 0, 0, 0, 0, 0, 0, 0, 0, 0, 0, 0, 0, 0, 0, 0, 0],\n",
        "      'F': [0, 0, 0, 0, 1, 0, 0, 0, 0, 0, 0, 0, 0, 0, 0, 0, 0, 0, 0, 0],\n",
        "      'G': [0, 0, 0, 0, 0, 1, 0, 0, 0, 0, 0, 0, 0, 0, 0, 0, 0, 0, 0, 0],\n",
        "      'H': [0, 0, 0, 0, 0, 0, 1, 0, 0, 0, 0, 0, 0, 0, 0, 0, 0, 0, 0, 0],\n",
        "      'I': [0, 0, 0, 0, 0, 0, 0, 1, 0, 0, 0, 0, 0, 0, 0, 0, 0, 0, 0, 0],\n",
        "      'K': [0, 0, 0, 0, 0, 0, 0, 0, 1, 0, 0, 0, 0, 0, 0, 0, 0, 0, 0, 0],\n",
        "      'L': [0, 0, 0, 0, 0, 0, 0, 0, 0, 1, 0, 0, 0, 0, 0, 0, 0, 0, 0, 0],\n",
        "      'M': [0, 0, 0, 0, 0, 0, 0, 0, 0, 0, 1, 0, 0, 0, 0, 0, 0, 0, 0, 0],\n",
        "      'N': [0, 0, 0, 0, 0, 0, 0, 0, 0, 0, 0, 1, 0, 0, 0, 0, 0, 0, 0, 0],\n",
        "      'P': [0, 0, 0, 0, 0, 0, 0, 0, 0, 0, 0, 0, 1, 0, 0, 0, 0, 0, 0, 0],\n",
        "      'Q': [0, 0, 0, 0, 0, 0, 0, 0, 0, 0, 0, 0, 0, 1, 0, 0, 0, 0, 0, 0],\n",
        "      'R': [0, 0, 0, 0, 0, 0, 0, 0, 0, 0, 0, 0, 0, 0, 1, 0, 0, 0, 0, 0],\n",
        "      'S': [0, 0, 0, 0, 0, 0, 0, 0, 0, 0, 0, 0, 0, 0, 0, 1, 0, 0, 0, 0],\n",
        "      'T': [0, 0, 0, 0, 0, 0, 0, 0, 0, 0, 0, 0, 0, 0, 0, 0, 1, 0, 0, 0],\n",
        "      'V': [0, 0, 0, 0, 0, 0, 0, 0, 0, 0, 0, 0, 0, 0, 0, 0, 0, 1, 0, 0],\n",
        "      'W': [0, 0, 0, 0, 0, 0, 0, 0, 0, 0, 0, 0, 0, 0, 0, 0, 0, 0, 1, 0],\n",
        "      'Y': [0, 0, 0, 0, 0, 0, 0, 0, 0, 0, 0, 0, 0, 0, 0, 0, 0, 0, 0, 1]\n",
        "  }\n",
        "\n",
        "  # 'm3': array auxiliar que contendrá la matriz de aminoácidos extraída del \n",
        "  # archivo csv, cuya ruta se pasará como parámetro a esta función 'one_hot()'.\n",
        "  m3 = [] \n",
        "  \n",
        "  # 'm_encode': lista de listas que contendrá los valores codificados\n",
        "  # de las secuencias de aminoácidos extraídas del array 'm3'. Cada fila\n",
        "  # contendrá una lista con 17 listas, y cada una de éstas contendrá la \n",
        "  # secuencia codificada (20 caracteres binarios en forma de vector de ceros\n",
        "  # y unos) correspondiente a uno de los 17 aminoácidos de la secuencia original\n",
        "  # representada por cada fila de 'm3'.\n",
        "  m_encode = []\n",
        "\n",
        "  # 'm_aux': lista auxiliar que recoge, mediante el uso del diccionario\n",
        "  # 'aminoac_dic', el contendio de cada una de las filas de 'm_encode'.\n",
        "  # Esta se completa por tanto con un total de 17 listas, cada una de las cuales\n",
        "  # es un vector de 20 ceros y unos).\n",
        "  m_aux = [] \n",
        "\n",
        "  # PASO 1 -----------------------------------------------------------\n",
        "  \n",
        "  # Almacenado del contenido de fichero en un array llamado 'm3':\n",
        "  with open(ruta_csv, newline='') as csvfile:\n",
        "      csv_reader = csv.reader(csvfile, delimiter=';')\n",
        "      m3 = list(csv_reader)\n",
        "  \n",
        "\n",
        "\n",
        "  # PASO 2 -----------------------------------------------------------\n",
        "  \n",
        "  # Formateado de la matriz de aminoacidos 'm3'.\n",
        "  # Se elimina la primera fila y última columna de 'm3':\n",
        "\n",
        "  del m3[0] # Eliminamos la primera fila con las cabeceras.\n",
        "\n",
        "  # Para la eliminación de la última columna del array,\n",
        "  # calculamos el total de columnas (variable 'column')\n",
        "  # y a continuación usamons list comprenhension para \n",
        "  # acceder a cada elemento de la columna 'column' y \n",
        "  # eliminarlo. El número de columnas coincide con la \n",
        "  # longitud de cualquier fila. En este caso usamos la \n",
        "  # primera fila:\n",
        "\n",
        "  column = len(m3[0]) \n",
        "  for row in m3:\n",
        "      del row[column-1]\n",
        "\n",
        "  \n",
        "\n",
        "  # PASO 3 -----------------------------------------------------------\n",
        "\n",
        "  # Creación de la matriz 'm_encod' que contiene la codificación 'one-hot'\n",
        "  # de las secuencias contenidas en la matriz de aminoacidos 'm3'. \n",
        "\n",
        "  # Recorremos cada secuencia (vector de caracteres 'sec_amin') de 17 \n",
        "  # aminoacidos que corresponden a cada una de las filas de la matriz 'm3':\n",
        "  for sec_amin in m3: \n",
        "\n",
        "    # Para cada uno de los aminoácidos 'amin' en la secuencia 'sec_amin',\n",
        "    # se añade su secuencia codificada correspondiente, extraída a partir del\n",
        "    # diccionario 'aminoac_dic' al vector 'm_aux', el cual se vacía cada vez \n",
        "    # que recorremos una secuencia de 17 aminoácidos:\n",
        "    del m_aux[:]\n",
        "    for amin in sec_amin:\n",
        "      m_aux.append(aminoac_dic[amin])\n",
        "    \n",
        "    # Insertamos en 'm_conde' la lista de 17 vectores binarios recogida en cada\n",
        "    # iteración del segundo bucle for (anidado).\n",
        "    m_encode.append(m_aux)\n",
        "\n",
        "  # Final de la función. Devuelve toda el contenido de 'm_encode' tras haber sido \n",
        "  # rellenada con el conjunto de todas las secuencias codificadas de 17\n",
        "  # aminoácidos: \n",
        "  return m_encode\n",
        "\n",
        "\n",
        "# Probamos la función asignádole su valor devuelto a la variable 'm', que\n",
        "# imprimiremos por pantalla:\n",
        "\n",
        "m = one_hot('/content/sample_data/data4.csv')\n",
        "\n",
        "# Total de filas:\n",
        "print(\"- Filas:\", len(m))\n",
        "# Total de vectores binarios por fila:\n",
        "print(\"- Vectores por fila:\", len(m[0]))\n",
        "# Total de elementos por vector binario:  \n",
        "print(\"- Elementos por vector:\", len(m[0][0]))\n",
        "# Primer elemento del primer vector (primer aminoácido) de la primera secuencia:\n",
        "print(m[0][0])"
      ],
      "metadata": {
        "id": "GaAKB2JoOAYj",
        "colab": {
          "base_uri": "https://localhost:8080/"
        },
        "outputId": "8720a2d2-c20d-49c2-f7e6-cd29f670f54d"
      },
      "execution_count": 39,
      "outputs": [
        {
          "output_type": "stream",
          "name": "stdout",
          "text": [
            "- Filas: 10000\n",
            "- Vectores por fila: 17\n",
            "- Elementos por vector: 20\n",
            "[0, 0, 0, 0, 0, 0, 0, 1, 0, 0, 0, 0, 0, 0, 0, 0, 0, 0, 0, 0]\n"
          ]
        }
      ]
    },
    {
      "cell_type": "markdown",
      "source": [
        "# 3 - Script clasificador k-NN"
      ],
      "metadata": {
        "id": "lUF-gBsIV_Pt"
      }
    }
  ]
}