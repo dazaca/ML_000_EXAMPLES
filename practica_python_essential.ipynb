{
  "nbformat": 4,
  "nbformat_minor": 0,
  "metadata": {
    "colab": {
      "provenance": [],
      "authorship_tag": "ABX9TyOG3kPs1glLIhKFeyA17keY",
      "include_colab_link": true
    },
    "kernelspec": {
      "name": "python3",
      "display_name": "Python 3"
    },
    "language_info": {
      "name": "python"
    }
  },
  "cells": [
    {
      "cell_type": "markdown",
      "metadata": {
        "id": "view-in-github",
        "colab_type": "text"
      },
      "source": [
        "<a href=\"https://colab.research.google.com/github/dazaca/ML_000_EXAMPLES/blob/main/practica_python_essential.ipynb\" target=\"_parent\"><img src=\"https://colab.research.google.com/assets/colab-badge.svg\" alt=\"Open In Colab\"/></a>"
      ]
    },
    {
      "cell_type": "code",
      "execution_count": null,
      "metadata": {
        "colab": {
          "base_uri": "https://localhost:8080/"
        },
        "id": "rj8Fhs1fyXXE",
        "outputId": "7899d60e-2048-465c-a203-79224bf525ec"
      },
      "outputs": [
        {
          "output_type": "stream",
          "name": "stdout",
          "text": [
            "5\n"
          ]
        }
      ],
      "source": [
        "a = 3\n",
        "b = 2\n",
        "c = a + b\n",
        "print(c)"
      ]
    },
    {
      "cell_type": "code",
      "source": [
        "# Declaración\n",
        "b = 5\n",
        "# Asignación\n",
        "c = a + b\n",
        "print(c)"
      ],
      "metadata": {
        "colab": {
          "base_uri": "https://localhost:8080/"
        },
        "id": "PWJM3EWMzA84",
        "outputId": "a90a6168-e6f1-440a-ed7b-dc497a2fc007"
      },
      "execution_count": null,
      "outputs": [
        {
          "output_type": "stream",
          "name": "stdout",
          "text": [
            "8\n"
          ]
        }
      ]
    },
    {
      "cell_type": "code",
      "source": [
        "c = a + b\n",
        "print(c)"
      ],
      "metadata": {
        "colab": {
          "base_uri": "https://localhost:8080/"
        },
        "id": "-2rrvH3Ezpps",
        "outputId": "8afe97ea-84ff-43b3-e153-f5ecd8608695"
      },
      "execution_count": null,
      "outputs": [
        {
          "output_type": "stream",
          "name": "stdout",
          "text": [
            "5\n"
          ]
        }
      ]
    },
    {
      "cell_type": "markdown",
      "source": [
        "\n",
        "\n",
        "# PYTHON REVIEW\n",
        "\n"
      ],
      "metadata": {
        "id": "_O5jhryT-T3A"
      }
    },
    {
      "cell_type": "markdown",
      "source": [
        "## 1-Sintax, literals, operators, expressions"
      ],
      "metadata": {
        "id": "LpMkn8GZ-kc-"
      }
    },
    {
      "cell_type": "code",
      "source": [
        "# Print\n",
        "print(\"Hello, world!\")\n",
        "print()\n",
        "print(\"... new line after empty line ...\")\n",
        "print(\"\\n... new line after empty line using the escape character '\\' (backslash) ...\")\n",
        "print(\"\\n... new line after empty line using the escape character '\\\\' ...\")\n",
        "\n",
        "print(\"\\nFirst argument\", \"second argument (separated by comma with space included)\")\n",
        "print(\"My name is\", \"Python.\")\n",
        "print(\"Monty Python (with no line in between).\")\n",
        "\n",
        "# Keyword Arguments\n",
        "# The print() function has two keyword arguments that you can use for your purposes. \n",
        "# The first of them is named \"end\":\n",
        "\n",
        "\n",
        "print(\"\\nMy name is\", \"Python.\", end=\" \")\n",
        "print(\"Monty Python.\")\n",
        "\n",
        "# Valid use of print() functions. It adds an empty line:\n",
        "print()\n",
        "print(\"New line after the use of the \\\"print()\\\" function without arguments.\")"
      ],
      "metadata": {
        "colab": {
          "base_uri": "https://localhost:8080/"
        },
        "id": "8ZmUK0tL-f6T",
        "outputId": "e7606e9e-e105-45cb-90d3-29cd68ac7536"
      },
      "execution_count": 3,
      "outputs": [
        {
          "output_type": "stream",
          "name": "stdout",
          "text": [
            "Hello, world!\n",
            "\n",
            "... new line after empty line ...\n",
            "\n",
            "... new line after empty line using the escape character '' (backslash) ...\n",
            "\n",
            "... new line after empty line using the escape character '\\' ...\n",
            "\n",
            "First argument second argument (separated by comma with space included)\n",
            "My name is Python.\n",
            "Monty Python (with no line in between).\n",
            "\n",
            "My name is Python. Monty Python.\n",
            "\n",
            "New line after the use of the \"print()\" function without arguments.\n"
          ]
        }
      ]
    },
    {
      "cell_type": "markdown",
      "source": [
        "# Ejemplo uso librería \"drive\" de google.colab \n",
        "\n"
      ],
      "metadata": {
        "id": "5n1g8O5Sz8to"
      }
    },
    {
      "cell_type": "code",
      "source": [
        "from google.colab import drive\n",
        "drive.mount('/content/drive')"
      ],
      "metadata": {
        "colab": {
          "base_uri": "https://localhost:8080/"
        },
        "id": "FwxVaznm1it0",
        "outputId": "4c824a22-d441-4430-b48e-963c7bf0b864"
      },
      "execution_count": null,
      "outputs": [
        {
          "output_type": "stream",
          "name": "stdout",
          "text": [
            "Mounted at /content/drive\n"
          ]
        }
      ]
    },
    {
      "cell_type": "code",
      "source": [
        "import pandas as pd\n",
        "\n",
        "df1 = pd.read_csv ('/content/drive/MyDrive/UOC/Master Bioinformatica/SEMESTRE 2/3-MACHINE LEARNING/PRACTICAS/oh_enc.csv')\n",
        "df2 = pd.read_csv ('/content/drive/MyDrive/UOC/Master Bioinformatica/SEMESTRE 2/3-MACHINE LEARNING/PRACTICAS/data4.csv')\n",
        "\n",
        "print (df1)\n",
        "print ('\\n\\n/////////////////////////////////////\\n\\n')\n",
        "print (df2)"
      ],
      "metadata": {
        "colab": {
          "base_uri": "https://localhost:8080/"
        },
        "id": "ZtIIrrue2B5j",
        "outputId": "7852be13-e279-4258-cba9-38eda59d1760"
      },
      "execution_count": null,
      "outputs": [
        {
          "output_type": "stream",
          "name": "stdout",
          "text": [
            "      V1  V2  V3  V4  V5  V6  V7  V8  V9  V10  ...  V331  V332  V333  V334  \\\n",
            "0      0   0   0   0   0   0   0   0   0    0  ...     0     0     0     0   \n",
            "1      0   0   0   0   0   0   0   0   0    0  ...     0     0     0     1   \n",
            "2      0   0   0   0   0   0   0   0   0    0  ...     0     0     0     0   \n",
            "3      0   0   0   0   0   0   0   0   0    0  ...     0     0     0     0   \n",
            "4      0   0   0   0   0   0   0   0   0    0  ...     0     0     0     0   \n",
            "...   ..  ..  ..  ..  ..  ..  ..  ..  ..  ...  ...   ...   ...   ...   ...   \n",
            "9995   0   0   0   0   0   0   0   0   0    1  ...     0     0     0     0   \n",
            "9996   0   0   0   0   0   0   0   0   0    0  ...     1     0     0     0   \n",
            "9997   0   0   0   0   0   0   0   0   0    1  ...     0     0     0     0   \n",
            "9998   0   0   0   0   0   0   0   0   0    0  ...     0     0     0     0   \n",
            "9999   0   0   0   0   0   0   0   0   0    1  ...     0     0     0     0   \n",
            "\n",
            "      V335  V336  V337  V338  V339  V340  \n",
            "0        1     0     0     0     0     0  \n",
            "1        0     0     0     0     0     0  \n",
            "2        0     0     0     0     0     0  \n",
            "3        0     0     0     0     0     0  \n",
            "4        0     1     0     0     0     0  \n",
            "...    ...   ...   ...   ...   ...   ...  \n",
            "9995     0     0     0     0     1     0  \n",
            "9996     0     0     0     0     0     0  \n",
            "9997     0     0     0     0     0     0  \n",
            "9998     0     0     0     0     0     0  \n",
            "9999     0     0     0     0     0     0  \n",
            "\n",
            "[10000 rows x 340 columns]\n",
            "\n",
            "\n",
            "/////////////////////////////////////\n",
            "\n",
            "\n",
            "     V1;\"V2\";\"V3\";\"V4\";\"V5\";\"V6\";\"V7\";\"V8\";\"V9\";\"V10\";\"V11\";\"V12\";\"V13\";\"V14\";\"V15\";\"V16\";\"V17\";\"V18\"\n",
            "0     S;\"S\";\"P\";\"F\";\"S\";\"Q\";\"K\";\"G\";\"D\";\"E\";\"R\";\"Y\";...                                              \n",
            "1     L;\"L\";\"Q\";\"Y\";\"Y\";\"G\";\"M\";\"T\";\"E\";\"M\";\"N\";\"Y\";...                                              \n",
            "2     L;\"L\";\"N\";\"P\";\"K\";\"K\";\"Y\";\"I\";\"P\";\"G\";\"T\";\"K\";...                                              \n",
            "3     L;\"L\";\"N\";\"A\";\"K\";\"G\";\"E\";\"T\";\"F\";\"E\";\"V\";\"A\";...                                              \n",
            "4     T;\"V\";\"S\";\"F\";\"E\";\"A\";\"T\";\"F\";\"A\";\"F\";\"L\";\"I\";...                                              \n",
            "...                                                 ...                                              \n",
            "9995  I;\"V\";\"S\";\"W\";\"G\";\"S\";\"G\";\"C\";\"A\";\"Q\";\"K\";\"N\";...                                              \n",
            "9996  S;\"V\";\"K\";\"L\";\"N\";\"H\";\"N\";\"R\";\"A\";\"K\";\"S\";\"M\";...                                              \n",
            "9997  I;\"P\";\"W\";\"S\";\"I\";\"Y\";\"S\";\"A\";\"I\";\"F\";\"E\";\"I\";...                                              \n",
            "9998  P;\"T\";\"D\";\"S\";\"E\";\"L\";\"Y\";\"K\";\"L\";\"I\";\"A\";\"S\";...                                              \n",
            "9999  I;\"V\";\"R\";\"K\";\"V\";\"N\";\"A\";\"E\";\"G\";\"S\";\"V\";\"D\";...                                              \n",
            "\n",
            "[10000 rows x 1 columns]\n"
          ]
        }
      ]
    }
  ]
}