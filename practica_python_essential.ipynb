{
  "nbformat": 4,
  "nbformat_minor": 0,
  "metadata": {
    "colab": {
      "provenance": [],
      "collapsed_sections": [
        "5n1g8O5Sz8to"
      ],
      "toc_visible": true,
      "authorship_tag": "ABX9TyNedlNjur8LgXIYEN0AsIqv",
      "include_colab_link": true
    },
    "kernelspec": {
      "name": "python3",
      "display_name": "Python 3"
    },
    "language_info": {
      "name": "python"
    }
  },
  "cells": [
    {
      "cell_type": "markdown",
      "metadata": {
        "id": "view-in-github",
        "colab_type": "text"
      },
      "source": [
        "<a href=\"https://colab.research.google.com/github/dazaca/ML_000_EXAMPLES/blob/main/practica_python_essential.ipynb\" target=\"_parent\"><img src=\"https://colab.research.google.com/assets/colab-badge.svg\" alt=\"Open In Colab\"/></a>"
      ]
    },
    {
      "cell_type": "code",
      "execution_count": null,
      "metadata": {
        "colab": {
          "base_uri": "https://localhost:8080/"
        },
        "id": "rj8Fhs1fyXXE",
        "outputId": "7899d60e-2048-465c-a203-79224bf525ec"
      },
      "outputs": [
        {
          "output_type": "stream",
          "name": "stdout",
          "text": [
            "5\n"
          ]
        }
      ],
      "source": [
        "a = 3\n",
        "b = 2\n",
        "c = a + b\n",
        "print(c)"
      ]
    },
    {
      "cell_type": "code",
      "source": [
        "# Declaración\n",
        "b = 5\n",
        "# Asignación\n",
        "c = a + b\n",
        "print(c)"
      ],
      "metadata": {
        "colab": {
          "base_uri": "https://localhost:8080/"
        },
        "id": "PWJM3EWMzA84",
        "outputId": "a90a6168-e6f1-440a-ed7b-dc497a2fc007"
      },
      "execution_count": null,
      "outputs": [
        {
          "output_type": "stream",
          "name": "stdout",
          "text": [
            "8\n"
          ]
        }
      ]
    },
    {
      "cell_type": "code",
      "source": [
        "c = a + b\n",
        "print(c)"
      ],
      "metadata": {
        "colab": {
          "base_uri": "https://localhost:8080/"
        },
        "id": "-2rrvH3Ezpps",
        "outputId": "8afe97ea-84ff-43b3-e153-f5ecd8608695"
      },
      "execution_count": null,
      "outputs": [
        {
          "output_type": "stream",
          "name": "stdout",
          "text": [
            "5\n"
          ]
        }
      ]
    },
    {
      "cell_type": "markdown",
      "source": [
        "\n",
        "\n",
        "# PYTHON REVIEW\n",
        "\n"
      ],
      "metadata": {
        "id": "_O5jhryT-T3A"
      }
    },
    {
      "cell_type": "markdown",
      "source": [
        "## 1- Sintax, literals, operators, expressions"
      ],
      "metadata": {
        "id": "LpMkn8GZ-kc-"
      }
    },
    {
      "cell_type": "code",
      "source": [
        "# 1.1 Print\n",
        "print(\"Hello, world!\")\n",
        "# Valid use of print() functions. It adds an empty line:\n",
        "print()\n",
        "print(\"... new line after empty line ...\")\n",
        "print(\"\\n... new line after empty line using the escape character '\\' (backslash) ...\")\n",
        "print(\"\\n... new line after empty line using the escape character '\\\\' ...\")\n",
        "\n",
        "print(\"\\nFirst argument ->\", \"<- second argument (separated by comma with space included)\")\n",
        "print(\"My name is\", \"Python.\")\n",
        "print(\"Monty Python (with no line in between).\")\n",
        "\n"
      ],
      "metadata": {
        "colab": {
          "base_uri": "https://localhost:8080/"
        },
        "id": "8ZmUK0tL-f6T",
        "outputId": "66a8a64f-66be-4b8a-9456-d4c91584eed5"
      },
      "execution_count": null,
      "outputs": [
        {
          "output_type": "stream",
          "name": "stdout",
          "text": [
            "Hello, world!\n",
            "\n",
            "... new line after empty line ...\n",
            "\n",
            "... new line after empty line using the escape character '' (backslash) ...\n",
            "\n",
            "... new line after empty line using the escape character '\\' ...\n",
            "\n",
            "First argument -> <- second argument (separated by comma with space included)\n",
            "My name is Python.\n",
            "Monty Python (with no line in between).\n"
          ]
        }
      ]
    },
    {
      "cell_type": "code",
      "source": [
        "# 1.2 Keyword Arguments\n",
        "# The print() function has two keyword arguments that you can use for your purposes. \n",
        "# The first of them is named \"end\" (note that here the default /n is replaced by a space):\n",
        "\n",
        "print(\"\\nMy name is\", \"Python.\", end=\" \")\n",
        "print(\"Monty Python.\")\n",
        "\n",
        "print(\"\\nMy name is \", end=\"\")\n",
        "print(\"Monty Python2.\")\n",
        "\n",
        "# The second keyword: \"sep\" (separator):\n",
        "print()\n",
        "print(\"My\", \"name\", \"is\", \"Monty\", \"Python.\", sep=\"-\")\n",
        "\n",
        "# Combination of both:\n",
        "print(\"\\nCombination of both: Monty\", \"Python.\", sep=\"*\", end=\"*\\n\")\n",
        "print(\"Hello\")\n"
      ],
      "metadata": {
        "colab": {
          "base_uri": "https://localhost:8080/"
        },
        "id": "VhrWVR7RbXtS",
        "outputId": "a4b27e36-f780-46f1-fef9-81720678c66c"
      },
      "execution_count": null,
      "outputs": [
        {
          "output_type": "stream",
          "name": "stdout",
          "text": [
            "\n",
            "My name is Python. Monty Python.\n",
            "\n",
            "My name is Monty Python2.\n",
            "\n",
            "My-name-is-Monty-Python.\n",
            "\n",
            "Combination of both: Monty*Python.*\n",
            "Hello\n"
          ]
        }
      ]
    },
    {
      "cell_type": "code",
      "source": [
        "# 1.3 Literals - the data in itself\n",
        "\n",
        "# Two types of literals: string vs integer:\n",
        "print(\"\\n--- String vs integer ---\\n\")\n",
        "print(\"2\")\n",
        "print(2)\n",
        "\n",
        "# *Python 3.6 has introduced underscores in numeric literals, allowing for\n",
        "# placing single underscores between digits and after base specifiers for\n",
        "# improved readability. This feature is not available in older versions \n",
        "# of Python.\n",
        "print(\"\\n--- Underscore between digits: ---\\n\")\n",
        "print(\"Operating with the same number: \", 111_111_111 - 111111111)\n",
        "\n",
        "# Integers: octal and hexadecimal numbers.\n",
        "print(\"\\n--- Integers: octal and hexadecimal numbers. ---\\n\")\n",
        "# If an integer number is preceded by an 0O or 0o prefix (zero-o), \n",
        "# it will be treated as an octal value. This means that the number must contain \n",
        "# digits taken from the [0..7] range only.\n",
        "print(\"Convert 123 in octal to decimal: \")\n",
        "print(0o123)\n",
        "\n",
        "# To use hexadecimal numbers, such numbers should be preceded by the \n",
        "# prefix 0x or 0X (zero-x):\n",
        "print(\"Convert 123 in hexadecimal to decimal: \")\n",
        "print(0x123)\n",
        "\n",
        "# Another example:\n",
        "print(\"Convert A (in hexadecimal) and 12 (in octal) to decimal: \", end=\"\\n\\n\")\n",
        "print(\"0xA in decimal: \", 0xA, \"\\n\")\n",
        "print(\"0o12 in octal: \", 0o12, \"\\n\")\n",
        "\n",
        "# Floats (floating-point number):\n",
        "print(\"\\n--- Floats (floating-point number). ---\\n\")\n",
        "print(\"Different ways of writing -0.4:\", -0.4, \"or\", -.4)\n",
        "\n",
        "# Scientific notation. Exponents:\n",
        "print(\"\\n--- Scientific notation. ---\\n\")\n",
        "print(\"Examples:\", 3E8, \" or \", 3e8, \" or \", -1.5e-3)\n",
        "\n",
        "# Strings:\n",
        "print(\"\\n--- Strings. ---\\n\")\n",
        "print(\"Use of backslash:\")\n",
        "print(\"I like \\\"Monty Python\\\" or also\", 'I like \"Monty Python\".')\n",
        "print('I\\'m Monty Python.', \"I'm Monty Python.\")\n",
        "print('')\n",
        "print(\"----1\")\n",
        "print(\"\")\n",
        "print('----2')\n",
        "\n",
        "# Boolean values:\n",
        "print(\"\\n--- Boolean values. ---\\n\")\n",
        "print(\"You cannot change anything - you have to take these symbols as they are,\\\n",
        " including case-sensitivity\")\n",
        "print(True > False)\n",
        "print(True < False)\n",
        "print(\"Expressions above: clue-> 1 (True) and 0 (False).\")"
      ],
      "metadata": {
        "colab": {
          "base_uri": "https://localhost:8080/"
        },
        "id": "0d3uhll4d8M0",
        "outputId": "e88f4532-5b2d-4ca3-a6b0-e35d0e65a60f"
      },
      "execution_count": null,
      "outputs": [
        {
          "output_type": "stream",
          "name": "stdout",
          "text": [
            "\n",
            "--- String vs integer ---\n",
            "\n",
            "2\n",
            "2\n",
            "\n",
            "--- Underscore between digits: ---\n",
            "\n",
            "Operating with the same number:  0\n",
            "\n",
            "--- Integers: octal and hexadecimal numbers. ---\n",
            "\n",
            "Convert 123 in octal to decimal: \n",
            "83\n",
            "Convert 123 in hexadecimal to decimal: \n",
            "291\n",
            "Convert A (in hexadecimal) and 12 (in octal) to decimal: \n",
            "\n",
            "0xA in decimal:  10 \n",
            "\n",
            "0o12 in octal:  10 \n",
            "\n",
            "\n",
            "--- Floats (floating-point number). ---\n",
            "\n",
            "Different ways of writing -0.4: -0.4 or -0.4\n",
            "\n",
            "--- Scientific notation. ---\n",
            "\n",
            "Examples: 300000000.0  or  300000000.0  or  -0.0015\n",
            "\n",
            "--- Strings. ---\n",
            "\n",
            "Use of backslash:\n",
            "I like \"Monty Python\" or also I like \"Monty Python\".\n",
            "I'm Monty Python. I'm Monty Python.\n",
            "\n",
            "----1\n",
            "\n",
            "----2\n",
            "\n",
            "--- Boolean values. ---\n",
            "\n",
            "You cannot change anything - you have to take these symbols as they are, including case-sensitivity\n",
            "True\n",
            "False\n",
            "Expressions above: clue-> 1 (True) and 0 (False).\n"
          ]
        }
      ]
    },
    {
      "cell_type": "code",
      "source": [
        "# 1.4 Operators\n",
        "\n",
        "# Data and operators when connected together form expressions. \n",
        "# The simplest expression is a literal itself.\n",
        "\n",
        "# Exponentiation:\n",
        "print(\"\\n--- Exponentiation ---\\n\")\n",
        "print(2 ** 3)\n",
        "print(2 ** 3.)\n",
        "print(2. ** 3)\n",
        "print(2. ** 3.)\n",
        "print()\n",
        "print(\"2*3 = \", 2 * 3, \" but 6/3 = \", 6/3, \"\\n\")\n",
        "\n",
        "# Division:\n",
        "print(\"\\n\\n--- Division ---\\n\")\n",
        "# A // (double slash) sign is an integer divisional operator. It differs from \n",
        "# the standard / operator in two details:\n",
        " \n",
        "# 1) its result lacks the fractional part - it's absent (for integers), or is \n",
        "# always equal to zero (for floats); this means that the results are always rounded;\n",
        "# 2) it conforms to the integer vs. float rule.\n",
        "\n",
        "# Decimal division:\n",
        "print(\"8 / 4 (decimal)= \", 8/4)\n",
        "# Integer division (floor division): The rounding goes toward the lesser integer value\n",
        "print(\"6 // 4 (integer)= \", 6 // 4)\n",
        "print(\"6. // 4 = \", 6. // 4)\n",
        "# Watch out for the negative numbers! :\n",
        "print(\"Watch out for the negative numbers!\")\n",
        "print(\"-6 // 4 = \", -6 // 4)\n",
        "print(\"6. // -4 = \", 6. // -4)\n",
        "\n",
        "# Remainder (modulo):\n",
        "print(\"\\n\\n--- Remainder(modulo) ---\\n\")\n",
        "# It's the value left over after dividing one value by another to produce an integer quotient.\n",
        "print(\"14 % 4 = \", 14 % 4, \"\\n\")\n",
        "print(\"12 % 4.5 = \", 12 % 4.5)\n",
        "\n",
        "# Priorities:\n",
        "print(\"\\n\\n--- Execution order priorities ---\\n\")\n",
        "# The binding of the operator determines the order of computations performed by\n",
        "# some operators with equal priority, put side by side in one expression.\n",
        "# % operator, as almost all operators, has left-sided binding:\n",
        "print(\"Example: 9 % 6 % 2 = \", 9 % 6 % 2)\n",
        "# EXCEPTION ( ** operator is right-sided binding):\n",
        "# 2 ** 2 → 4; 4 ** 3 → 64\n",
        "# 2 ** 3 → 8; 2 ** 8 → 256\n",
        "print(\"\\nEXCEPTION ( ** operator is right-sided binding):\")\n",
        "print(\"2 ** 2 → 4; 4 ** 3 → 64\")\n",
        "print(\"2 ** 3 → 8; 2 ** 8 → 256\")\n",
        "print(\"\\nEXCEPTION: 2 ** 2 ** 3 would be ((2^3)^2) = \", 2 ** 2 ** 3)\n",
        "\n",
        "# Priority: ** , + or - (unary), * or / or // or %, + or - (binary)\n",
        "x = 10\n",
        "y = -x  # assign the negative value of x to y using the - unary operator\n",
        "print(\"\\nx = 10\")\n",
        "print(\"y = -x  # assign the negative value of x to y using the - unary operator\")\n",
        "print(y, \"=\")  # prints -10\n",
        "\n",
        "z = +x  # assign the positive value of x to z using the + unary operator (this is the default behavior)\n",
        "print(\"z = +x  # assign the positive value of x to z using the + unary operator (this is the default behavior).\")\n",
        "\n",
        "print(z)  # prints 10"
      ],
      "metadata": {
        "colab": {
          "base_uri": "https://localhost:8080/"
        },
        "id": "ObQBxTUv2QpR",
        "outputId": "d75bafe8-8e1f-47bc-f8f8-daa55ccce517"
      },
      "execution_count": 15,
      "outputs": [
        {
          "output_type": "stream",
          "name": "stdout",
          "text": [
            "\n",
            "--- Exponentiation ---\n",
            "\n",
            "8\n",
            "8.0\n",
            "8.0\n",
            "8.0\n",
            "\n",
            "2*3 =  6  but 6/3 =  2.0 \n",
            "\n",
            "\n",
            "\n",
            "--- Division ---\n",
            "\n",
            "8 / 4 (decimal)=  2.0\n",
            "6 // 4 (integer)=  1\n",
            "6. // 4 =  1.0\n",
            "Watch out for the negative numbers!\n",
            "-6 // 4 =  -2\n",
            "6. // -4 =  -2.0\n",
            "\n",
            "\n",
            "--- Remainder(modulo) ---\n",
            "\n",
            "14 % 4 =  2 \n",
            "\n",
            "12 % 4.5 =  3.0\n",
            "\n",
            "\n",
            "--- Execution order priorities ---\n",
            "\n",
            "Example: 9 % 6 % 2 =  1\n",
            "\n",
            "EXCEPTION ( ** operator is right-sided binding):\n",
            "2 ** 2 → 4; 4 ** 3 → 64\n",
            "2 ** 3 → 8; 2 ** 8 → 256\n",
            "\n",
            "EXCEPTION: 2 ** 2 ** 3 would be ((2^3)^2) =  256\n",
            "x = 10\n",
            "y = -x  # assign the negative value of x to y using the - unary operator\n",
            "-10 =\n",
            "z = +x  # assign the positive value of x to z using the + unary operator (this is the default behavior).\n",
            "10\n"
          ]
        }
      ]
    },
    {
      "cell_type": "code",
      "source": [
        "# 1.4 Variables\n",
        "\n",
        "# With cannot begin a variable's name with a digit and neither use spaces.\n",
        "\n",
        "var = \"3.8.6\"\n",
        "print(\"Python version: \" + var)\n",
        "# ... also:\n",
        "print(\"Python version: \", var)\n",
        "\n"
      ],
      "metadata": {
        "colab": {
          "base_uri": "https://localhost:8080/"
        },
        "id": "xOwdgAhLfa00",
        "outputId": "2f9d0cc3-999c-4b19-f35d-34c775ccf5c2"
      },
      "execution_count": 18,
      "outputs": [
        {
          "output_type": "stream",
          "name": "stdout",
          "text": [
            "Python version: 3.8.6\n",
            "Python version:  3.8.6\n"
          ]
        }
      ]
    },
    {
      "cell_type": "code",
      "source": [
        "# 1.5 Shortcut operators\n",
        "\n",
        "# i = i + 2 * j ⇒  i += 2 * j\n",
        "# \n",
        "# var = var / 2 ⇒  var /= 2\n",
        "# \n",
        "# rem = rem % 10 ⇒  rem %= 10\n",
        "# \n",
        "# j = j - (i + var + rem) ⇒  j -= (i + var + rem)\n",
        "# \n",
        "# x = x ** 2 ⇒  x **= 2\n"
      ],
      "metadata": {
        "id": "GjpfG_mG0bYy"
      },
      "execution_count": null,
      "outputs": []
    },
    {
      "cell_type": "code",
      "source": [
        "# 1.6 String operators\n",
        "\n",
        "# Concat operator\n",
        "print(\"\\n\\n--- Concat operator ---\\n\")\n",
        "fnam = input(\"May I have your first name, please? \")\n",
        "lnam = input(\"May I have your last name, please? \")\n",
        "print(\"Thank you.\")\n",
        "print(\"\\nYour name is \" + fnam + \" \" + lnam + \".\")\n",
        "\n"
      ],
      "metadata": {
        "colab": {
          "base_uri": "https://localhost:8080/"
        },
        "id": "g00_Y0PV9OUQ",
        "outputId": "71b0a198-a838-4f74-a030-32dc47eb993b"
      },
      "execution_count": 30,
      "outputs": [
        {
          "output_type": "stream",
          "name": "stdout",
          "text": [
            "\n",
            "\n",
            "--- Concat operator ---\n",
            "\n",
            "May I have your first name, please? yo\n",
            "May I have your last name, please? mismoyatedigo\n",
            "Thank you.\n",
            "\n",
            "Your name is yo mismoyatedigo.\n",
            "\n",
            "\n",
            "--- Replication operator ---\n",
            "\n",
            "+----------+\n"
          ]
        }
      ]
    },
    {
      "cell_type": "code",
      "source": [
        "# Replication operator\n",
        "print(\"\\n\\n--- Replication operator ---\\n\")\n",
        "print(\"+\" + 10 * \"-\" + \"+\")\n",
        "print((\"|\" + \" \" * 10 + \"|\\n\") * 5)\n",
        "print(\"+\" + 10 * \"-\" + \"+\")\n",
        "\n",
        "print(\"\\nLet's improve it: \\n\")\n",
        "\n",
        "\n",
        "print(\"+\" + 10 * \"-\" + \"+\")\n",
        "print((\"|\" + \" \" * 10 + \"|\\n\") * 5, end=\"\")\n",
        "print(\"+\" + 10 * \"-\" + \"+\")"
      ],
      "metadata": {
        "colab": {
          "base_uri": "https://localhost:8080/"
        },
        "id": "8QCK9EtK_XM3",
        "outputId": "f1565333-28e3-44d0-d23c-0b4b97753bab"
      },
      "execution_count": 36,
      "outputs": [
        {
          "output_type": "stream",
          "name": "stdout",
          "text": [
            "\n",
            "\n",
            "--- Replication operator ---\n",
            "\n",
            "+----------+\n",
            "|          |\n",
            "|          |\n",
            "|          |\n",
            "|          |\n",
            "|          |\n",
            "\n",
            "+----------+\n",
            "\n",
            "Let's improve it: \n",
            "\n",
            "+----------+\n",
            "|          |\n",
            "|          |\n",
            "|          |\n",
            "|          |\n",
            "|          |\n",
            "+----------+\n"
          ]
        }
      ]
    },
    {
      "cell_type": "markdown",
      "source": [
        "##2- Some interesting functions: \"input( )\", \"int( )\", \"float( )\", \"str()\"\n",
        "\n"
      ],
      "metadata": {
        "id": "YkGfX7bg44lb"
      }
    },
    {
      "cell_type": "code",
      "source": [
        "print(\"Tell me anything...\")\n",
        "anything = input()\n",
        "print(\"Hmm...\", anything, \"... Really?\")"
      ],
      "metadata": {
        "colab": {
          "base_uri": "https://localhost:8080/"
        },
        "id": "fLckwnSr5UVn",
        "outputId": "e0c99525-702c-4509-c6e5-fcaed1f967a6"
      },
      "execution_count": 19,
      "outputs": [
        {
          "output_type": "stream",
          "name": "stdout",
          "text": [
            "Tell me anything...\n",
            "ANYTHING\n",
            "Hmm... ANYTHING ... Really?\n"
          ]
        }
      ]
    },
    {
      "cell_type": "code",
      "source": [
        "anything = input(\"Enter a number: \")\n",
        "something = float(anything) ** 2.0 # Operand ** only admits string or float !!!\n",
        "print(anything, \"to the power of 2 is\", something)"
      ],
      "metadata": {
        "colab": {
          "base_uri": "https://localhost:8080/"
        },
        "id": "e9mdYz086Ehu",
        "outputId": "dece4719-9313-4078-fdc6-bad52325c804"
      },
      "execution_count": 26,
      "outputs": [
        {
          "output_type": "stream",
          "name": "stdout",
          "text": [
            "Enter a number: 2\n",
            "2 to the power of 2 is 4.0\n"
          ]
        }
      ]
    },
    {
      "cell_type": "code",
      "source": [
        "# ... OR :\n",
        "anything = float(input(\"Enter a number: \"))\n",
        "something = anything ** 2.0 # Operand ** only admits string or float !!!\n",
        "print(anything, \"to the power of 2 is\", something)"
      ],
      "metadata": {
        "colab": {
          "base_uri": "https://localhost:8080/"
        },
        "id": "-heAUl4W7E9w",
        "outputId": "f41b21ae-eed3-4de0-bf1a-3f24483114da"
      },
      "execution_count": 27,
      "outputs": [
        {
          "output_type": "stream",
          "name": "stdout",
          "text": [
            "Enter a number: 2\n",
            "2.0 to the power of 2 is 4.0\n"
          ]
        }
      ]
    },
    {
      "cell_type": "code",
      "source": [
        "# ... an example:\n",
        "\n",
        "leg_a = float(input(\"Input first leg length: \"))\n",
        "leg_b = float(input(\"Input second leg length: \"))\n",
        "hypo = (leg_a**2 + leg_b**2) ** .5\n",
        "print(\"Hypotenuse length is\", hypo)"
      ],
      "metadata": {
        "colab": {
          "base_uri": "https://localhost:8080/"
        },
        "id": "EN8vhPCs78Vx",
        "outputId": "352c9c67-2799-43bf-eff8-19806ee5fbf3"
      },
      "execution_count": 28,
      "outputs": [
        {
          "output_type": "stream",
          "name": "stdout",
          "text": [
            "Input first leg length: 2\n",
            "Input second leg length: 2\n",
            "Hypotenuse length is 2.8284271247461903\n"
          ]
        }
      ]
    },
    {
      "cell_type": "code",
      "source": [
        "# str() example (compare it with the previous one):\n",
        "\n",
        "leg_a = float(input(\"Input first leg length: \"))\n",
        "leg_b = float(input(\"Input second leg length: \"))\n",
        "print(\"Hypotenuse length is \" + str((leg_a**2 + leg_b**2) ** .5))"
      ],
      "metadata": {
        "colab": {
          "base_uri": "https://localhost:8080/"
        },
        "id": "nNHMJg4DBVBf",
        "outputId": "1697ddfa-0f30-4d29-a665-138542c7b7a1"
      },
      "execution_count": 38,
      "outputs": [
        {
          "output_type": "stream",
          "name": "stdout",
          "text": [
            "Input first leg length: 2\n",
            "Input second leg length: 2\n",
            "Hypotenuse length is 2.8284271247461903\n"
          ]
        }
      ]
    },
    {
      "cell_type": "code",
      "source": [
        "x = float(input(\"\\nEnter value for x: \"))\n",
        "y = float((x+(1/((x+( 1/(x+( 1/x )))))))**-1)\n",
        "print(\"y =\", y)\n",
        "print(\"... or:\")\n",
        "y = float(1/(x+(1/((x+( 1/(x+( 1/x ))))))))\n",
        "print(\"y =\", y)\n",
        "print(\"... or even:\")\n",
        "y = 1/(x+(1/((x+( 1/(x+( 1/x )))))))\n",
        "print(\"y =\", y)"
      ],
      "metadata": {
        "colab": {
          "base_uri": "https://localhost:8080/"
        },
        "id": "eLO19tacE2vH",
        "outputId": "753781ea-ebea-4048-c21e-8048f9024e34"
      },
      "execution_count": 40,
      "outputs": [
        {
          "output_type": "stream",
          "name": "stdout",
          "text": [
            "\n",
            "Enter value for x: 1\n",
            "y = 0.6000000000000001\n",
            "... or:\n",
            "y = 0.6000000000000001\n",
            "... or even:\n",
            "y = 0.6000000000000001\n"
          ]
        }
      ]
    },
    {
      "cell_type": "markdown",
      "source": [
        "## 3- String operators"
      ],
      "metadata": {
        "id": "iyglXe0Q82rl"
      }
    },
    {
      "cell_type": "markdown",
      "source": [
        "# Ejemplo uso librería \"drive\" de google.colab \n",
        "\n"
      ],
      "metadata": {
        "id": "5n1g8O5Sz8to"
      }
    },
    {
      "cell_type": "code",
      "source": [
        "from google.colab import drive\n",
        "drive.mount('/content/drive')"
      ],
      "metadata": {
        "colab": {
          "base_uri": "https://localhost:8080/"
        },
        "id": "FwxVaznm1it0",
        "outputId": "4c824a22-d441-4430-b48e-963c7bf0b864"
      },
      "execution_count": null,
      "outputs": [
        {
          "output_type": "stream",
          "name": "stdout",
          "text": [
            "Mounted at /content/drive\n"
          ]
        }
      ]
    },
    {
      "cell_type": "code",
      "source": [
        "import pandas as pd\n",
        "\n",
        "df1 = pd.read_csv ('/content/drive/MyDrive/UOC/Master Bioinformatica/SEMESTRE 2/3-MACHINE LEARNING/PRACTICAS/oh_enc.csv')\n",
        "df2 = pd.read_csv ('/content/drive/MyDrive/UOC/Master Bioinformatica/SEMESTRE 2/3-MACHINE LEARNING/PRACTICAS/data4.csv')\n",
        "\n",
        "print (df1)\n",
        "print ('\\n\\n/////////////////////////////////////\\n\\n')\n",
        "print (df2)"
      ],
      "metadata": {
        "colab": {
          "base_uri": "https://localhost:8080/"
        },
        "id": "ZtIIrrue2B5j",
        "outputId": "7852be13-e279-4258-cba9-38eda59d1760"
      },
      "execution_count": null,
      "outputs": [
        {
          "output_type": "stream",
          "name": "stdout",
          "text": [
            "      V1  V2  V3  V4  V5  V6  V7  V8  V9  V10  ...  V331  V332  V333  V334  \\\n",
            "0      0   0   0   0   0   0   0   0   0    0  ...     0     0     0     0   \n",
            "1      0   0   0   0   0   0   0   0   0    0  ...     0     0     0     1   \n",
            "2      0   0   0   0   0   0   0   0   0    0  ...     0     0     0     0   \n",
            "3      0   0   0   0   0   0   0   0   0    0  ...     0     0     0     0   \n",
            "4      0   0   0   0   0   0   0   0   0    0  ...     0     0     0     0   \n",
            "...   ..  ..  ..  ..  ..  ..  ..  ..  ..  ...  ...   ...   ...   ...   ...   \n",
            "9995   0   0   0   0   0   0   0   0   0    1  ...     0     0     0     0   \n",
            "9996   0   0   0   0   0   0   0   0   0    0  ...     1     0     0     0   \n",
            "9997   0   0   0   0   0   0   0   0   0    1  ...     0     0     0     0   \n",
            "9998   0   0   0   0   0   0   0   0   0    0  ...     0     0     0     0   \n",
            "9999   0   0   0   0   0   0   0   0   0    1  ...     0     0     0     0   \n",
            "\n",
            "      V335  V336  V337  V338  V339  V340  \n",
            "0        1     0     0     0     0     0  \n",
            "1        0     0     0     0     0     0  \n",
            "2        0     0     0     0     0     0  \n",
            "3        0     0     0     0     0     0  \n",
            "4        0     1     0     0     0     0  \n",
            "...    ...   ...   ...   ...   ...   ...  \n",
            "9995     0     0     0     0     1     0  \n",
            "9996     0     0     0     0     0     0  \n",
            "9997     0     0     0     0     0     0  \n",
            "9998     0     0     0     0     0     0  \n",
            "9999     0     0     0     0     0     0  \n",
            "\n",
            "[10000 rows x 340 columns]\n",
            "\n",
            "\n",
            "/////////////////////////////////////\n",
            "\n",
            "\n",
            "     V1;\"V2\";\"V3\";\"V4\";\"V5\";\"V6\";\"V7\";\"V8\";\"V9\";\"V10\";\"V11\";\"V12\";\"V13\";\"V14\";\"V15\";\"V16\";\"V17\";\"V18\"\n",
            "0     S;\"S\";\"P\";\"F\";\"S\";\"Q\";\"K\";\"G\";\"D\";\"E\";\"R\";\"Y\";...                                              \n",
            "1     L;\"L\";\"Q\";\"Y\";\"Y\";\"G\";\"M\";\"T\";\"E\";\"M\";\"N\";\"Y\";...                                              \n",
            "2     L;\"L\";\"N\";\"P\";\"K\";\"K\";\"Y\";\"I\";\"P\";\"G\";\"T\";\"K\";...                                              \n",
            "3     L;\"L\";\"N\";\"A\";\"K\";\"G\";\"E\";\"T\";\"F\";\"E\";\"V\";\"A\";...                                              \n",
            "4     T;\"V\";\"S\";\"F\";\"E\";\"A\";\"T\";\"F\";\"A\";\"F\";\"L\";\"I\";...                                              \n",
            "...                                                 ...                                              \n",
            "9995  I;\"V\";\"S\";\"W\";\"G\";\"S\";\"G\";\"C\";\"A\";\"Q\";\"K\";\"N\";...                                              \n",
            "9996  S;\"V\";\"K\";\"L\";\"N\";\"H\";\"N\";\"R\";\"A\";\"K\";\"S\";\"M\";...                                              \n",
            "9997  I;\"P\";\"W\";\"S\";\"I\";\"Y\";\"S\";\"A\";\"I\";\"F\";\"E\";\"I\";...                                              \n",
            "9998  P;\"T\";\"D\";\"S\";\"E\";\"L\";\"Y\";\"K\";\"L\";\"I\";\"A\";\"S\";...                                              \n",
            "9999  I;\"V\";\"R\";\"K\";\"V\";\"N\";\"A\";\"E\";\"G\";\"S\";\"V\";\"D\";...                                              \n",
            "\n",
            "[10000 rows x 1 columns]\n"
          ]
        }
      ]
    }
  ]
}