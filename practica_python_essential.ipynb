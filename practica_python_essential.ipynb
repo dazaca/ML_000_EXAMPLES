{
  "nbformat": 4,
  "nbformat_minor": 0,
  "metadata": {
    "colab": {
      "provenance": [],
      "toc_visible": true,
      "authorship_tag": "ABX9TyNbJbGvxp/FxJwLQo7B3l15",
      "include_colab_link": true
    },
    "kernelspec": {
      "name": "python3",
      "display_name": "Python 3"
    },
    "language_info": {
      "name": "python"
    }
  },
  "cells": [
    {
      "cell_type": "markdown",
      "metadata": {
        "id": "view-in-github",
        "colab_type": "text"
      },
      "source": [
        "<a href=\"https://colab.research.google.com/github/dazaca/ML_000_EXAMPLES/blob/main/practica_python_essential.ipynb\" target=\"_parent\"><img src=\"https://colab.research.google.com/assets/colab-badge.svg\" alt=\"Open In Colab\"/></a>"
      ]
    },
    {
      "cell_type": "code",
      "execution_count": null,
      "metadata": {
        "colab": {
          "base_uri": "https://localhost:8080/"
        },
        "id": "rj8Fhs1fyXXE",
        "outputId": "7899d60e-2048-465c-a203-79224bf525ec"
      },
      "outputs": [
        {
          "output_type": "stream",
          "name": "stdout",
          "text": [
            "5\n"
          ]
        }
      ],
      "source": [
        "a = 3\n",
        "b = 2\n",
        "c = a + b\n",
        "print(c)"
      ]
    },
    {
      "cell_type": "code",
      "source": [
        "# Declaración\n",
        "b = 5\n",
        "# Asignación\n",
        "c = a + b\n",
        "print(c)"
      ],
      "metadata": {
        "colab": {
          "base_uri": "https://localhost:8080/"
        },
        "id": "PWJM3EWMzA84",
        "outputId": "a90a6168-e6f1-440a-ed7b-dc497a2fc007"
      },
      "execution_count": null,
      "outputs": [
        {
          "output_type": "stream",
          "name": "stdout",
          "text": [
            "8\n"
          ]
        }
      ]
    },
    {
      "cell_type": "code",
      "source": [
        "c = a + b\n",
        "print(c)"
      ],
      "metadata": {
        "colab": {
          "base_uri": "https://localhost:8080/"
        },
        "id": "-2rrvH3Ezpps",
        "outputId": "8afe97ea-84ff-43b3-e153-f5ecd8608695"
      },
      "execution_count": null,
      "outputs": [
        {
          "output_type": "stream",
          "name": "stdout",
          "text": [
            "5\n"
          ]
        }
      ]
    },
    {
      "cell_type": "markdown",
      "source": [
        "\n",
        "\n",
        "# PYTHON REVIEW\n",
        "\n"
      ],
      "metadata": {
        "id": "_O5jhryT-T3A"
      }
    },
    {
      "cell_type": "markdown",
      "source": [
        "## 1- Sintax, literals, operators, expressions"
      ],
      "metadata": {
        "id": "LpMkn8GZ-kc-"
      }
    },
    {
      "cell_type": "code",
      "source": [
        "# 1.1 Print\n",
        "print(\"Hello, world!\")\n",
        "# Valid use of print() functions. It adds an empty line:\n",
        "print()\n",
        "print(\"... new line after empty line ...\")\n",
        "print(\"\\n... new line after empty line using the escape character '\\' (backslash) ...\")\n",
        "print(\"\\n... new line after empty line using the escape character '\\\\' ...\")\n",
        "\n",
        "print(\"\\nFirst argument ->\", \"<- second argument (separated by comma with space included)\")\n",
        "print(\"My name is\", \"Python.\")\n",
        "print(\"Monty Python (with no line in between).\")\n",
        "\n"
      ],
      "metadata": {
        "colab": {
          "base_uri": "https://localhost:8080/"
        },
        "id": "8ZmUK0tL-f6T",
        "outputId": "66a8a64f-66be-4b8a-9456-d4c91584eed5"
      },
      "execution_count": null,
      "outputs": [
        {
          "output_type": "stream",
          "name": "stdout",
          "text": [
            "Hello, world!\n",
            "\n",
            "... new line after empty line ...\n",
            "\n",
            "... new line after empty line using the escape character '' (backslash) ...\n",
            "\n",
            "... new line after empty line using the escape character '\\' ...\n",
            "\n",
            "First argument -> <- second argument (separated by comma with space included)\n",
            "My name is Python.\n",
            "Monty Python (with no line in between).\n"
          ]
        }
      ]
    },
    {
      "cell_type": "code",
      "source": [
        "# 1.2 Keyword Arguments\n",
        "# The print() function has two keyword arguments that you can use for your purposes. \n",
        "# The first of them is named \"end\" (note that here the default /n is replaced by a space):\n",
        "\n",
        "print(\"\\nMy name is\", \"Python.\", end=\" \")\n",
        "print(\"Monty Python.\")\n",
        "\n",
        "print(\"\\nMy name is \", end=\"\")\n",
        "print(\"Monty Python2.\")\n",
        "\n",
        "# The second keyword: \"sep\" (separator):\n",
        "print()\n",
        "print(\"My\", \"name\", \"is\", \"Monty\", \"Python.\", sep=\"-\")\n",
        "\n",
        "# Combination of both:\n",
        "print(\"\\nCombination of both: Monty\", \"Python.\", sep=\"*\", end=\"*\\n\")\n",
        "print(\"Hello\")\n"
      ],
      "metadata": {
        "colab": {
          "base_uri": "https://localhost:8080/"
        },
        "id": "VhrWVR7RbXtS",
        "outputId": "a4b27e36-f780-46f1-fef9-81720678c66c"
      },
      "execution_count": null,
      "outputs": [
        {
          "output_type": "stream",
          "name": "stdout",
          "text": [
            "\n",
            "My name is Python. Monty Python.\n",
            "\n",
            "My name is Monty Python2.\n",
            "\n",
            "My-name-is-Monty-Python.\n",
            "\n",
            "Combination of both: Monty*Python.*\n",
            "Hello\n"
          ]
        }
      ]
    },
    {
      "cell_type": "code",
      "source": [
        "# 1.3 Literals - the data in itself\n",
        "\n",
        "# Two types of literals: string vs integer:\n",
        "print(\"\\n--- String vs integer ---\\n\")\n",
        "print(\"2\")\n",
        "print(2)\n",
        "\n",
        "# *Python 3.6 has introduced underscores in numeric literals, allowing for\n",
        "# placing single underscores between digits and after base specifiers for\n",
        "# improved readability. This feature is not available in older versions \n",
        "# of Python.\n",
        "print(\"\\n--- Underscore between digits: ---\\n\")\n",
        "print(\"Operating with the same number: \", 111_111_111 - 111111111)\n",
        "\n",
        "# Integers: octal and hexadecimal numbers.\n",
        "print(\"\\n--- Integers: octal and hexadecimal numbers. ---\\n\")\n",
        "# If an integer number is preceded by an 0O or 0o prefix (zero-o), \n",
        "# it will be treated as an octal value. This means that the number must contain \n",
        "# digits taken from the [0..7] range only.\n",
        "print(\"Convert 123 in octal to decimal: \")\n",
        "print(0o123)\n",
        "\n",
        "# To use hexadecimal numbers, such numbers should be preceded by the \n",
        "# prefix 0x or 0X (zero-x):\n",
        "print(\"Convert 123 in hexadecimal to decimal: \")\n",
        "print(0x123)\n",
        "\n",
        "# Another example:\n",
        "print(\"Convert A (in hexadecimal) and 12 (in octal) to decimal: \", end=\"\\n\\n\")\n",
        "print(\"0xA in decimal: \", 0xA, \"\\n\")\n",
        "print(\"0o12 in octal: \", 0o12, \"\\n\")\n",
        "\n",
        "# Floats (floating-point number):\n",
        "print(\"\\n--- Floats (floating-point number). ---\\n\")\n",
        "print(\"Different ways of writing -0.4:\", -0.4, \"or\", -.4)\n",
        "\n",
        "# Scientific notation. Exponents:\n",
        "print(\"\\n--- Scientific notation. ---\\n\")\n",
        "print(\"Examples:\", 3E8, \" or \", 3e8, \" or \", -1.5e-3)\n",
        "\n",
        "# Strings:\n",
        "print(\"\\n--- Strings. ---\\n\")\n",
        "print(\"Use of backslash:\")\n",
        "print(\"I like \\\"Monty Python\\\" or also\", 'I like \"Monty Python\".')\n",
        "print('I\\'m Monty Python.', \"I'm Monty Python.\")\n",
        "print('')\n",
        "print(\"----1\")\n",
        "print(\"\")\n",
        "print('----2')\n",
        "\n",
        "# Boolean values:\n",
        "print(\"\\n--- Boolean values. ---\\n\")\n",
        "print(\"You cannot change anything - you have to take these symbols as they are,\\\n",
        " including case-sensitivity\")\n",
        "print(True > False)\n",
        "print(True < False)\n",
        "print(\"Expressions above: clue-> 1 (True) and 0 (False).\")"
      ],
      "metadata": {
        "colab": {
          "base_uri": "https://localhost:8080/"
        },
        "id": "0d3uhll4d8M0",
        "outputId": "e88f4532-5b2d-4ca3-a6b0-e35d0e65a60f"
      },
      "execution_count": null,
      "outputs": [
        {
          "output_type": "stream",
          "name": "stdout",
          "text": [
            "\n",
            "--- String vs integer ---\n",
            "\n",
            "2\n",
            "2\n",
            "\n",
            "--- Underscore between digits: ---\n",
            "\n",
            "Operating with the same number:  0\n",
            "\n",
            "--- Integers: octal and hexadecimal numbers. ---\n",
            "\n",
            "Convert 123 in octal to decimal: \n",
            "83\n",
            "Convert 123 in hexadecimal to decimal: \n",
            "291\n",
            "Convert A (in hexadecimal) and 12 (in octal) to decimal: \n",
            "\n",
            "0xA in decimal:  10 \n",
            "\n",
            "0o12 in octal:  10 \n",
            "\n",
            "\n",
            "--- Floats (floating-point number). ---\n",
            "\n",
            "Different ways of writing -0.4: -0.4 or -0.4\n",
            "\n",
            "--- Scientific notation. ---\n",
            "\n",
            "Examples: 300000000.0  or  300000000.0  or  -0.0015\n",
            "\n",
            "--- Strings. ---\n",
            "\n",
            "Use of backslash:\n",
            "I like \"Monty Python\" or also I like \"Monty Python\".\n",
            "I'm Monty Python. I'm Monty Python.\n",
            "\n",
            "----1\n",
            "\n",
            "----2\n",
            "\n",
            "--- Boolean values. ---\n",
            "\n",
            "You cannot change anything - you have to take these symbols as they are, including case-sensitivity\n",
            "True\n",
            "False\n",
            "Expressions above: clue-> 1 (True) and 0 (False).\n"
          ]
        }
      ]
    },
    {
      "cell_type": "code",
      "source": [
        "# 1.4 Operators\n",
        "\n",
        "# Data and operators when connected together form expressions. \n",
        "# The simplest expression is a literal itself.\n",
        "\n",
        "# Exponentiation:\n",
        "print(\"\\n--- Exponentiation ---\\n\")\n",
        "print(2 ** 3)\n",
        "print(2 ** 3.)\n",
        "print(2. ** 3)\n",
        "print(2. ** 3.)\n",
        "print()\n",
        "print(\"2*3 = \", 2 * 3, \" but 6/3 = \", 6/3, \"\\n\")\n",
        "\n",
        "# Division:\n",
        "print(\"\\n\\n--- Division ---\\n\")\n",
        "# A // (double slash) sign is an integer divisional operator. It differs from \n",
        "# the standard / operator in two details:\n",
        " \n",
        "# 1) its result lacks the fractional part - it's absent (for integers), or is \n",
        "# always equal to zero (for floats); this means that the results are always rounded;\n",
        "# 2) it conforms to the integer vs. float rule.\n",
        "\n",
        "# Decimal division:\n",
        "print(\"8 / 4 (decimal)= \", 8/4)\n",
        "# Integer division (floor division): The rounding goes toward the lesser integer value\n",
        "print(\"6 // 4 (integer)= \", 6 // 4)\n",
        "print(\"6. // 4 = \", 6. // 4)\n",
        "# Watch out for the negative numbers! :\n",
        "print(\"Watch out for the negative numbers!\")\n",
        "print(\"-6 // 4 = \", -6 // 4)\n",
        "print(\"6. // -4 = \", 6. // -4)\n",
        "\n",
        "# Remainder (modulo):\n",
        "print(\"\\n\\n--- Remainder(modulo) ---\\n\")\n",
        "# It's the value left over after dividing one value by another to produce an integer quotient.\n",
        "print(\"14 % 4 = \", 14 % 4, \"\\n\")\n",
        "print(\"12 % 4.5 = \", 12 % 4.5)\n",
        "\n",
        "# Priorities:\n",
        "print(\"\\n\\n--- Execution order priorities ---\\n\")\n",
        "# The binding of the operator determines the order of computations performed by\n",
        "# some operators with equal priority, put side by side in one expression.\n",
        "# % operator, as almost all operators, has left-sided binding:\n",
        "print(\"Example: 9 % 6 % 2 = \", 9 % 6 % 2)\n",
        "# EXCEPTION ( ** operator is right-sided binding):\n",
        "# 2 ** 2 → 4; 4 ** 3 → 64\n",
        "# 2 ** 3 → 8; 2 ** 8 → 256\n",
        "print(\"\\nEXCEPTION ( ** operator is right-sided binding):\")\n",
        "print(\"2 ** 2 → 4; 4 ** 3 → 64\")\n",
        "print(\"2 ** 3 → 8; 2 ** 8 → 256\")\n",
        "print(\"\\nEXCEPTION: 2 ** 2 ** 3 would be ((2^3)^2) = \", 2 ** 2 ** 3)\n",
        "\n",
        "# Priority: ** , + or - (unary), * or / or // or %, + or - (binary)\n",
        "x = 10\n",
        "y = -x  # assign the negative value of x to y using the - unary operator\n",
        "print(\"\\nx = 10\")\n",
        "print(\"y = -x  # assign the negative value of x to y using the - unary operator\")\n",
        "print(y, \"=\")  # prints -10\n",
        "\n",
        "z = +x  # assign the positive value of x to z using the + unary operator (this is the default behavior)\n",
        "print(\"z = +x  # assign the positive value of x to z using the + unary operator (this is the default behavior).\")\n",
        "\n",
        "print(z)  # prints 10"
      ],
      "metadata": {
        "colab": {
          "base_uri": "https://localhost:8080/"
        },
        "id": "ObQBxTUv2QpR",
        "outputId": "d75bafe8-8e1f-47bc-f8f8-daa55ccce517"
      },
      "execution_count": null,
      "outputs": [
        {
          "output_type": "stream",
          "name": "stdout",
          "text": [
            "\n",
            "--- Exponentiation ---\n",
            "\n",
            "8\n",
            "8.0\n",
            "8.0\n",
            "8.0\n",
            "\n",
            "2*3 =  6  but 6/3 =  2.0 \n",
            "\n",
            "\n",
            "\n",
            "--- Division ---\n",
            "\n",
            "8 / 4 (decimal)=  2.0\n",
            "6 // 4 (integer)=  1\n",
            "6. // 4 =  1.0\n",
            "Watch out for the negative numbers!\n",
            "-6 // 4 =  -2\n",
            "6. // -4 =  -2.0\n",
            "\n",
            "\n",
            "--- Remainder(modulo) ---\n",
            "\n",
            "14 % 4 =  2 \n",
            "\n",
            "12 % 4.5 =  3.0\n",
            "\n",
            "\n",
            "--- Execution order priorities ---\n",
            "\n",
            "Example: 9 % 6 % 2 =  1\n",
            "\n",
            "EXCEPTION ( ** operator is right-sided binding):\n",
            "2 ** 2 → 4; 4 ** 3 → 64\n",
            "2 ** 3 → 8; 2 ** 8 → 256\n",
            "\n",
            "EXCEPTION: 2 ** 2 ** 3 would be ((2^3)^2) =  256\n",
            "x = 10\n",
            "y = -x  # assign the negative value of x to y using the - unary operator\n",
            "-10 =\n",
            "z = +x  # assign the positive value of x to z using the + unary operator (this is the default behavior).\n",
            "10\n"
          ]
        }
      ]
    },
    {
      "cell_type": "code",
      "source": [
        "# 1.4 Variables\n",
        "\n",
        "# With cannot begin a variable's name with a digit and neither use spaces.\n",
        "\n",
        "var = \"3.8.6\"\n",
        "print(\"Python version: \" + var)\n",
        "# ... also:\n",
        "print(\"Python version: \", var)\n",
        "\n"
      ],
      "metadata": {
        "colab": {
          "base_uri": "https://localhost:8080/"
        },
        "id": "xOwdgAhLfa00",
        "outputId": "2f9d0cc3-999c-4b19-f35d-34c775ccf5c2"
      },
      "execution_count": null,
      "outputs": [
        {
          "output_type": "stream",
          "name": "stdout",
          "text": [
            "Python version: 3.8.6\n",
            "Python version:  3.8.6\n"
          ]
        }
      ]
    },
    {
      "cell_type": "code",
      "source": [
        "# 1.5 Shortcut operators\n",
        "\n",
        "# i = i + 2 * j ⇒  i += 2 * j\n",
        "# \n",
        "# var = var / 2 ⇒  var /= 2\n",
        "# \n",
        "# rem = rem % 10 ⇒  rem %= 10\n",
        "# \n",
        "# j = j - (i + var + rem) ⇒  j -= (i + var + rem)\n",
        "# \n",
        "# x = x ** 2 ⇒  x **= 2\n"
      ],
      "metadata": {
        "id": "GjpfG_mG0bYy"
      },
      "execution_count": null,
      "outputs": []
    },
    {
      "cell_type": "code",
      "source": [
        "# 1.6 String operators\n",
        "\n",
        "# Concat operator\n",
        "print(\"\\n\\n--- Concat operator ---\\n\")\n",
        "fnam = input(\"May I have your first name, please? \")\n",
        "lnam = input(\"May I have your last name, please? \")\n",
        "print(\"Thank you.\")\n",
        "print(\"\\nYour name is \" + fnam + \" \" + lnam + \".\")\n",
        "\n",
        "print(\"--- Others ----\")\n",
        "x=int(input())\n",
        "y=int(input())\n",
        "w=input()\n",
        "\n",
        "z=x//y*3 # Output is not 0.0 but 0.\n",
        "print(z)\n",
        "print(w*3) # Output will be the digit 'w' repeated 3 times.\n",
        "print('Other example: 3 times E is', 'E'*3)"
      ],
      "metadata": {
        "colab": {
          "base_uri": "https://localhost:8080/"
        },
        "id": "g00_Y0PV9OUQ",
        "outputId": "8757fca6-62f1-4d15-eb7f-de3eb282d30b"
      },
      "execution_count": null,
      "outputs": [
        {
          "output_type": "stream",
          "name": "stdout",
          "text": [
            "\n",
            "\n",
            "--- Concat operator ---\n",
            "\n",
            "May I have your first name, please? perico\n",
            "May I have your last name, please? palotes\n",
            "Thank you.\n",
            "\n",
            "Your name is perico palotes.\n",
            "--- Others ----\n",
            "1\n",
            "2\n",
            "3\n",
            "0\n",
            "333\n",
            "Other example: 3 times E is EEE\n"
          ]
        }
      ]
    },
    {
      "cell_type": "code",
      "source": [
        "# 1.7 Replication operator\n",
        "\n",
        "print(\"\\n\\n--- Replication operator ---\\n\")\n",
        "print(\"+\" + 10 * \"-\" + \"+\")\n",
        "print((\"|\" + \" \" * 10 + \"|\\n\") * 5)\n",
        "print(\"+\" + 10 * \"-\" + \"+\")\n",
        "\n",
        "print(\"\\nLet's improve it: \\n\")\n",
        "\n",
        "\n",
        "print(\"+\" + 10 * \"-\" + \"+\")\n",
        "print((\"|\" + \" \" * 10 + \"|\\n\") * 5, end=\"\")\n",
        "print(\"+\" + 10 * \"-\" + \"+\")"
      ],
      "metadata": {
        "colab": {
          "base_uri": "https://localhost:8080/"
        },
        "id": "8QCK9EtK_XM3",
        "outputId": "f1565333-28e3-44d0-d23c-0b4b97753bab"
      },
      "execution_count": null,
      "outputs": [
        {
          "output_type": "stream",
          "name": "stdout",
          "text": [
            "\n",
            "\n",
            "--- Replication operator ---\n",
            "\n",
            "+----------+\n",
            "|          |\n",
            "|          |\n",
            "|          |\n",
            "|          |\n",
            "|          |\n",
            "\n",
            "+----------+\n",
            "\n",
            "Let's improve it: \n",
            "\n",
            "+----------+\n",
            "|          |\n",
            "|          |\n",
            "|          |\n",
            "|          |\n",
            "|          |\n",
            "+----------+\n"
          ]
        }
      ]
    },
    {
      "cell_type": "markdown",
      "source": [
        "##2- Some interesting functions\n",
        "\n"
      ],
      "metadata": {
        "id": "YkGfX7bg44lb"
      }
    },
    {
      "cell_type": "markdown",
      "source": [
        "2.1 - input( )"
      ],
      "metadata": {
        "id": "8GSL93eqcrIQ"
      }
    },
    {
      "cell_type": "code",
      "source": [
        "print(\"Tell me anything...\")\n",
        "anything = input()\n",
        "print(\"Hmm...\", anything, \"... Really?\")"
      ],
      "metadata": {
        "colab": {
          "base_uri": "https://localhost:8080/"
        },
        "id": "fLckwnSr5UVn",
        "outputId": "e0c99525-702c-4509-c6e5-fcaed1f967a6"
      },
      "execution_count": null,
      "outputs": [
        {
          "output_type": "stream",
          "name": "stdout",
          "text": [
            "Tell me anything...\n",
            "ANYTHING\n",
            "Hmm... ANYTHING ... Really?\n"
          ]
        }
      ]
    },
    {
      "cell_type": "markdown",
      "source": [
        "### 2.2 - float( )"
      ],
      "metadata": {
        "id": "m6Bi_-Jac5Va"
      }
    },
    {
      "cell_type": "code",
      "source": [
        "anything = input(\"Enter a number: \")\n",
        "something = float(anything) ** 2.0 # Operand ** only admits string or float !!!\n",
        "print(anything, \"to the power of 2 is\", something)"
      ],
      "metadata": {
        "colab": {
          "base_uri": "https://localhost:8080/"
        },
        "id": "e9mdYz086Ehu",
        "outputId": "dece4719-9313-4078-fdc6-bad52325c804"
      },
      "execution_count": null,
      "outputs": [
        {
          "output_type": "stream",
          "name": "stdout",
          "text": [
            "Enter a number: 2\n",
            "2 to the power of 2 is 4.0\n"
          ]
        }
      ]
    },
    {
      "cell_type": "markdown",
      "source": [
        "### 2.3 - float( ) and input( )"
      ],
      "metadata": {
        "id": "j1IbIsbFdQ0s"
      }
    },
    {
      "cell_type": "code",
      "source": [
        "# ... OR :\n",
        "anything = float(input(\"Enter a number: \"))\n",
        "something = anything ** 2.0 # Operand ** only admits string or float !!!\n",
        "print(anything, \"to the power of 2 is\", something)"
      ],
      "metadata": {
        "colab": {
          "base_uri": "https://localhost:8080/"
        },
        "id": "-heAUl4W7E9w",
        "outputId": "f41b21ae-eed3-4de0-bf1a-3f24483114da"
      },
      "execution_count": null,
      "outputs": [
        {
          "output_type": "stream",
          "name": "stdout",
          "text": [
            "Enter a number: 2\n",
            "2.0 to the power of 2 is 4.0\n"
          ]
        }
      ]
    },
    {
      "cell_type": "code",
      "source": [
        "# ... an example:\n",
        "\n",
        "leg_a = float(input(\"Input first leg length: \"))\n",
        "leg_b = float(input(\"Input second leg length: \"))\n",
        "hypo = (leg_a**2 + leg_b**2) ** .5\n",
        "print(\"Hypotenuse length is\", hypo)"
      ],
      "metadata": {
        "colab": {
          "base_uri": "https://localhost:8080/"
        },
        "id": "EN8vhPCs78Vx",
        "outputId": "352c9c67-2799-43bf-eff8-19806ee5fbf3"
      },
      "execution_count": null,
      "outputs": [
        {
          "output_type": "stream",
          "name": "stdout",
          "text": [
            "Input first leg length: 2\n",
            "Input second leg length: 2\n",
            "Hypotenuse length is 2.8284271247461903\n"
          ]
        }
      ]
    },
    {
      "cell_type": "markdown",
      "source": [
        "### 2.4 - str( )"
      ],
      "metadata": {
        "id": "ln1bZRXKdpKJ"
      }
    },
    {
      "cell_type": "code",
      "source": [
        "# str() example (compare it with the previous one):\n",
        "\n",
        "leg_a = float(input(\"Input first leg length: \"))\n",
        "leg_b = float(input(\"Input second leg length: \"))\n",
        "print(\"Hypotenuse length is \" + str((leg_a**2 + leg_b**2) ** .5))"
      ],
      "metadata": {
        "colab": {
          "base_uri": "https://localhost:8080/"
        },
        "id": "nNHMJg4DBVBf",
        "outputId": "1697ddfa-0f30-4d29-a665-138542c7b7a1"
      },
      "execution_count": null,
      "outputs": [
        {
          "output_type": "stream",
          "name": "stdout",
          "text": [
            "Input first leg length: 2\n",
            "Input second leg length: 2\n",
            "Hypotenuse length is 2.8284271247461903\n"
          ]
        }
      ]
    },
    {
      "cell_type": "code",
      "source": [
        "x = float(input(\"\\nEnter value for x: \"))\n",
        "y = float((x+(1/((x+( 1/(x+( 1/x )))))))**-1)\n",
        "print(\"y =\", y)\n",
        "print(\"... or:\")\n",
        "y = float(1/(x+(1/((x+( 1/(x+( 1/x ))))))))\n",
        "print(\"y =\", y)\n",
        "print(\"... or even:\")\n",
        "y = 1/(x+(1/((x+( 1/(x+( 1/x )))))))\n",
        "print(\"y =\", y)"
      ],
      "metadata": {
        "colab": {
          "base_uri": "https://localhost:8080/"
        },
        "id": "eLO19tacE2vH",
        "outputId": "753781ea-ebea-4048-c21e-8048f9024e34"
      },
      "execution_count": null,
      "outputs": [
        {
          "output_type": "stream",
          "name": "stdout",
          "text": [
            "\n",
            "Enter value for x: 1\n",
            "y = 0.6000000000000001\n",
            "... or:\n",
            "y = 0.6000000000000001\n",
            "... or even:\n",
            "y = 0.6000000000000001\n"
          ]
        }
      ]
    },
    {
      "cell_type": "markdown",
      "source": [
        "### 2.5 - max( ) and min( )"
      ],
      "metadata": {
        "id": "N2AccITed11_"
      }
    },
    {
      "cell_type": "code",
      "source": [
        "# max() and min()\n",
        "\n",
        "print(\"\\n\\n--- max() and min() ---\\n\")\n",
        "# Read three numbers.\n",
        "number1 = int(input(\"Enter the first number: \"))\n",
        "number2 = int(input(\"Enter the second number: \"))\n",
        "number3 = int(input(\"Enter the third number: \"))\n",
        "\n",
        "# Check which one of the numbers is the greatest\n",
        "# and pass it to the largest_number variable.\n",
        "\n",
        "largest_number = max(number1, number2, number3)\n",
        "lowest_number = min(number1, number2, number3)\n",
        "\n",
        "# Print the result.\n",
        "print(\"The largest number is:\", largest_number)\n",
        "print(\"The lowest number is:\", lowest_number)"
      ],
      "metadata": {
        "colab": {
          "base_uri": "https://localhost:8080/"
        },
        "id": "RsqL4ODjaalW",
        "outputId": "45151dde-a571-42af-ee70-ae589b1ca1fd"
      },
      "execution_count": null,
      "outputs": [
        {
          "output_type": "stream",
          "name": "stdout",
          "text": [
            "\n",
            "\n",
            "--- max() and min() ---\n",
            "\n",
            "Enter the first number: 22\n",
            "Enter the second number: 3\n",
            "Enter the third number: -1\n",
            "The largest number is: 22\n",
            "The lowest number is: -1\n"
          ]
        }
      ]
    },
    {
      "cell_type": "markdown",
      "source": [
        "### 2.5 - time.sleep( )"
      ],
      "metadata": {
        "id": "4tqUevpTeMCm"
      }
    },
    {
      "cell_type": "code",
      "source": [
        "# time.sleep(1)\n",
        "\n",
        "print(\"\\n\\n--- time.sleep() ---\\n\")\n",
        "\n",
        "import time\n",
        "\n",
        "for counter in range (1,6):\n",
        "    print(counter, \" Mississipi.\\n\")\n",
        "    time.sleep(1) # Stops execution 1 second.\n",
        "print(\"\\nBlast off!\")"
      ],
      "metadata": {
        "colab": {
          "base_uri": "https://localhost:8080/"
        },
        "id": "bdRaSqTub3aN",
        "outputId": "cba5bba6-d8d3-4d74-b5f5-f35b7e3222fd"
      },
      "execution_count": null,
      "outputs": [
        {
          "output_type": "stream",
          "name": "stdout",
          "text": [
            "\n",
            "\n",
            "--- time.sleep() ---\n",
            "\n",
            "1  Mississipi.\n",
            "\n",
            "2  Mississipi.\n",
            "\n",
            "3  Mississipi.\n",
            "\n",
            "4  Mississipi.\n",
            "\n",
            "5  Mississipi.\n",
            "\n",
            "\n",
            "Blast off!\n"
          ]
        }
      ]
    },
    {
      "cell_type": "markdown",
      "source": [
        "## 3- Boolean values, conditional execution, loops, lists, logical and bitwise operations"
      ],
      "metadata": {
        "id": "A3PWSwV9NQbY"
      }
    },
    {
      "cell_type": "markdown",
      "source": [
        "### 3.1 - Boolean values"
      ],
      "metadata": {
        "id": "RlSHxYVhN5Dx"
      }
    },
    {
      "cell_type": "code",
      "source": [
        "# The 'equal to' operator:\n",
        "\n",
        "print(\"Result of 2 == 2 expresion in python is:\", 2 == 2)\n",
        "print(\"Result of 2 == 2.0 expresion in python is:\", 2 == 2.0)\n",
        "print(\"Result of 2 == 1 expresion in python is:\", 2 == 1)"
      ],
      "metadata": {
        "colab": {
          "base_uri": "https://localhost:8080/"
        },
        "id": "aHAXfVsYODvc",
        "outputId": "94d7b90b-4986-4d75-a0e9-41a6cb672e87"
      },
      "execution_count": null,
      "outputs": [
        {
          "output_type": "stream",
          "name": "stdout",
          "text": [
            "Result of 2 == 2 expresion in python is: True\n",
            "Result of 2 == 2.0 expresion in python is: True\n",
            "Result of 2 == 1 expresion in python is: False\n"
          ]
        }
      ]
    },
    {
      "cell_type": "code",
      "source": [
        "# Quick examplo use of >= \n",
        "# simple two-line program that takes the parameter n as input, which is an \n",
        "# integer, and prints False if n #is less than 100, and True if n is greater \n",
        "# than or equal to 100.\n",
        "\n",
        "n=int(input())\n",
        "print(n>=100)"
      ],
      "metadata": {
        "id": "48Br-dGIRQau"
      },
      "execution_count": null,
      "outputs": []
    },
    {
      "cell_type": "markdown",
      "source": [
        "### 3.2 - Conditions and conditional execution "
      ],
      "metadata": {
        "id": "2Y2Y9JplR76I"
      }
    },
    {
      "cell_type": "markdown",
      "source": [
        "#### 3.2.1 - If, else & elif "
      ],
      "metadata": {
        "id": "2ZZjCdFWeel7"
      }
    },
    {
      "cell_type": "code",
      "source": [
        "# 3.2.1 If, else & elif\n",
        "\n",
        "print(\"\\n\\n--- If, else & elif ---\\n\")\n",
        "\n",
        "n=int(input(\"Enter a number: \\n\"))\n",
        "if(n>=100):\n",
        "  if(n==100):\n",
        "    print(\"Your number is = to 100 !\")\n",
        "  elif(n > 100):\n",
        "    print(\"Your number is > than 100 !\")\n",
        "else:\n",
        "  print(\"Your number is < than 100 !\")"
      ],
      "metadata": {
        "colab": {
          "base_uri": "https://localhost:8080/"
        },
        "id": "Pss__ShcSI3N",
        "outputId": "32a4c0d1-ef3d-49ae-f61d-3821b8fa2149"
      },
      "execution_count": null,
      "outputs": [
        {
          "output_type": "stream",
          "name": "stdout",
          "text": [
            "\n",
            "\n",
            "--- If, else & elif ---\n",
            "\n",
            "Enter a number: \n",
            "3\n",
            "Your number is < than 100 !\n"
          ]
        }
      ]
    },
    {
      "cell_type": "markdown",
      "source": [
        "### 3.3 - Loops "
      ],
      "metadata": {
        "id": "g8xRBpAzfDfC"
      }
    },
    {
      "cell_type": "markdown",
      "source": [
        "#### 3.3.1 - \"While\" loops"
      ],
      "metadata": {
        "id": "bre4vpm-eoF7"
      }
    },
    {
      "cell_type": "code",
      "source": [
        "# 3.3.2 While\n",
        "\n",
        "print(\"\\n\\n--- While ---\\n\")\n",
        "\n",
        "# Store the current largest number here.\n",
        "largest_number = -999999999\n",
        "\n",
        "# Input the first value.\n",
        "number = int(input(\"Enter a number or type -1 to stop: \"))\n",
        "\n",
        "# If the number is not equal to -1, continue.\n",
        "while number != -1:\n",
        "    # Is number larger than largest_number?\n",
        "    if number > largest_number:\n",
        "        # Yes, update largest_number.\n",
        "        largest_number = number\n",
        "    # Input the next number.\n",
        "    number = int(input(\"Enter a number or type -1 to stop: \"))\n",
        "\n",
        "# Print the largest number.\n",
        "print(\"The largest number is:\", largest_number)"
      ],
      "metadata": {
        "colab": {
          "base_uri": "https://localhost:8080/"
        },
        "id": "rYrHct1SK1wo",
        "outputId": "4f439477-9f6d-44b7-c0a1-3e7273e9abe9"
      },
      "execution_count": null,
      "outputs": [
        {
          "output_type": "stream",
          "name": "stdout",
          "text": [
            "\n",
            "\n",
            "--- While ---\n",
            "\n",
            "Enter a number or type -1 to stop: 3\n",
            "Enter a number or type -1 to stop: -100\n",
            "Enter a number or type -1 to stop: 2\n",
            "Enter a number or type -1 to stop: -1\n",
            "The largest number is: 3\n"
          ]
        }
      ]
    },
    {
      "cell_type": "code",
      "source": [
        "counter = 5\n",
        "while counter != 0:\n",
        "    print(\"Inside the loop.\", counter)\n",
        "    counter -= 1\n",
        "print(\"Outside the loop.\", counter)\n",
        "\n",
        "print(\"\\nUsing an equivalent while condition:\")\n",
        "counter = 5\n",
        "while counter:\n",
        "    print(\"Inside the loop.\", counter)\n",
        "    counter -= 1\n",
        "print(\"Outside the loop.\", counter)"
      ],
      "metadata": {
        "colab": {
          "base_uri": "https://localhost:8080/"
        },
        "id": "ffDv_8uBVXmf",
        "outputId": "4d0a13ee-2800-4e1c-f5a6-b933db01e7e1"
      },
      "execution_count": null,
      "outputs": [
        {
          "output_type": "stream",
          "name": "stdout",
          "text": [
            "Inside the loop. 5\n",
            "Inside the loop. 4\n",
            "Inside the loop. 3\n",
            "Inside the loop. 2\n",
            "Inside the loop. 1\n",
            "Outside the loop. 0\n",
            "\n",
            "Using an equivalent while condition:\n",
            "Inside the loop. 5\n",
            "Inside the loop. 4\n",
            "Inside the loop. 3\n",
            "Inside the loop. 2\n",
            "Inside the loop. 1\n",
            "Outside the loop. 0\n"
          ]
        }
      ]
    },
    {
      "cell_type": "markdown",
      "source": [
        "#### 3.3.2 - \"For\" loops"
      ],
      "metadata": {
        "id": "12wjghqleua7"
      }
    },
    {
      "cell_type": "code",
      "source": [
        "# 3.3.3 \"For\" loops\n",
        "\n",
        "print(\"\\n\\n--- For loops ---\\n\")\n",
        "# the for loop is designed to do more complicated tasks \n",
        "# - it can \"browse\" large collections of data item by item - .\n",
        "\n",
        "for i in range(10):\n",
        "    print(\"The value of i is currently\", i)\n"
      ],
      "metadata": {
        "colab": {
          "base_uri": "https://localhost:8080/"
        },
        "id": "SPE359mWWJF7",
        "outputId": "b408c1e3-a11b-4cf1-d81b-8114651982a3"
      },
      "execution_count": null,
      "outputs": [
        {
          "output_type": "stream",
          "name": "stdout",
          "text": [
            "\n",
            "\n",
            "--- For loops ---\n",
            "\n",
            "The value of i is currently 0\n",
            "The value of i is currently 1\n",
            "The value of i is currently 2\n",
            "The value of i is currently 3\n",
            "The value of i is currently 4\n",
            "The value of i is currently 5\n",
            "The value of i is currently 6\n",
            "The value of i is currently 7\n",
            "The value of i is currently 8\n",
            "The value of i is currently 9\n"
          ]
        }
      ]
    },
    {
      "cell_type": "code",
      "source": [
        "for i in range(2, 8):\n",
        "    print(\"The value of i is currently\", i)"
      ],
      "metadata": {
        "colab": {
          "base_uri": "https://localhost:8080/"
        },
        "id": "5jlHtElfW91N",
        "outputId": "f72cba48-b6df-4069-e997-0370fe69986b"
      },
      "execution_count": null,
      "outputs": [
        {
          "output_type": "stream",
          "name": "stdout",
          "text": [
            "The value of i is currently 2\n",
            "The value of i is currently 3\n",
            "The value of i is currently 4\n",
            "The value of i is currently 5\n",
            "The value of i is currently 6\n",
            "The value of i is currently 7\n"
          ]
        }
      ]
    },
    {
      "cell_type": "code",
      "source": [
        "for i in range(2, 8, 3):\n",
        "    print(\"The value of i is currently\", i)"
      ],
      "metadata": {
        "colab": {
          "base_uri": "https://localhost:8080/"
        },
        "id": "WV-rnc4VXJIb",
        "outputId": "d67f3b56-df2f-467b-f6bd-0c40d8ac381a"
      },
      "execution_count": null,
      "outputs": [
        {
          "output_type": "stream",
          "name": "stdout",
          "text": [
            "The value of i is currently 2\n",
            "The value of i is currently 5\n"
          ]
        }
      ]
    },
    {
      "cell_type": "code",
      "source": [
        "# NO OUTPUT FOR THE FOLLOWING CASES:\n",
        "\n",
        "for i in range(1, 1):\n",
        "    print(\"The value of i is currently\", i)\n",
        "\n",
        "for i in range(2, 1):\n",
        "    print(\"The value of i is currently\", i)\n",
        "\n",
        "# Check the use of time.spleep() example in 2.5\n"
      ],
      "metadata": {
        "id": "aE2mjXHYXYHD"
      },
      "execution_count": null,
      "outputs": []
    },
    {
      "cell_type": "markdown",
      "source": [
        "#### 3.3.3 - The \"break\" and \"continue\" statements"
      ],
      "metadata": {
        "id": "VXfgefqPlxDe"
      }
    },
    {
      "cell_type": "code",
      "source": [
        "# break (keyword)- example \n",
        "print(\"The break instruction:\")\n",
        "for i in range(1, 6):\n",
        "    if i == 3:\n",
        "        break\n",
        "    print(\"Inside the loop.\", i)\n",
        "print(\"Outside the loop (break at 3).\")\n",
        "\n",
        "\n",
        "# continue (keyword)- example\n",
        "print(\"\\nThe continue instruction:\")\n",
        "for i in range(1, 6):\n",
        "    if i == 3:\n",
        "        continue # Note we cancel the iteration, but not the loop.\n",
        "    print(\"Inside the loop.\", i)\n",
        "print(\"Outside the loop.\")"
      ],
      "metadata": {
        "colab": {
          "base_uri": "https://localhost:8080/"
        },
        "id": "4Ae2WbEPmXNY",
        "outputId": "565411ae-6e01-4169-94b1-47a7492332c8"
      },
      "execution_count": null,
      "outputs": [
        {
          "output_type": "stream",
          "name": "stdout",
          "text": [
            "The break instruction:\n",
            "Inside the loop. 1\n",
            "Inside the loop. 2\n",
            "Outside the loop (break at 3).\n",
            "\n",
            "The continue instruction:\n",
            "Inside the loop. 1\n",
            "Inside the loop. 2\n",
            "Inside the loop. 4\n",
            "Inside the loop. 5\n",
            "Outside the loop.\n"
          ]
        }
      ]
    },
    {
      "cell_type": "code",
      "source": [
        "for i in range(6, 1, -2):\n",
        "    print(i, end=\" \")  # Outputs: 6, 4, 2"
      ],
      "metadata": {
        "colab": {
          "base_uri": "https://localhost:8080/"
        },
        "id": "j939co0UHnqI",
        "outputId": "2d4cfbeb-95c9-48b0-963f-140f93639ba4"
      },
      "execution_count": null,
      "outputs": [
        {
          "output_type": "stream",
          "name": "stdout",
          "text": [
            "6 4 2 "
          ]
        }
      ]
    },
    {
      "cell_type": "code",
      "source": [
        "for digit in \"0165031806510\":\n",
        "    if digit == \"0\":\n",
        "        print(\"x\", end=\"\")\n",
        "        continue\n",
        "    print(digit, end=\"\")"
      ],
      "metadata": {
        "colab": {
          "base_uri": "https://localhost:8080/"
        },
        "id": "Kp4RijB8IkC7",
        "outputId": "123599d1-1e47-4d28-dda9-dbac5b37fdf7"
      },
      "execution_count": null,
      "outputs": [
        {
          "output_type": "stream",
          "name": "stdout",
          "text": [
            "x165x318x651x"
          ]
        }
      ]
    },
    {
      "cell_type": "code",
      "source": [
        "# Another example:\n",
        "user_word = input(\"Enter a word in lowercase: \")\n",
        "user_word = user_word.upper()\n",
        "for letter in user_word: # Exclude de vowels\n",
        "    if (letter == 'A') \\\n",
        "        or (letter == 'E') \\\n",
        "        or (letter == 'I') \\\n",
        "        or (letter == 'O') \\\n",
        "        or (letter == 'U'):\n",
        "            continue\n",
        "    else:\n",
        "        print(letter)"
      ],
      "metadata": {
        "colab": {
          "base_uri": "https://localhost:8080/"
        },
        "id": "eLRTB_mhE0V3",
        "outputId": "f130439a-a29a-4662-91c9-95cd1aa7592c"
      },
      "execution_count": null,
      "outputs": [
        {
          "output_type": "stream",
          "name": "stdout",
          "text": [
            "Enter a word in lowercase: mississipo\n",
            "M\n",
            "S\n",
            "S\n",
            "S\n",
            "S\n",
            "P\n"
          ]
        }
      ]
    },
    {
      "cell_type": "markdown",
      "source": [
        "#### 3.3.4. - The \"while\" loop and the \"else\" branch"
      ],
      "metadata": {
        "id": "nV_GFHnXFjAL"
      }
    },
    {
      "cell_type": "code",
      "source": [
        "i = 1\n",
        "while i < 4:\n",
        "    print(i)\n",
        "    i += 1\n",
        "else:\n",
        "    print(\"else:\", i)\n",
        "\n",
        "# OR...\n",
        "print('\\nThe \"while\" condition is not met:')\n",
        "i = 5\n",
        "while i < 5:\n",
        "    print(i)\n",
        "    i += 1\n",
        "else:\n",
        "    print(\"else:\", i)"
      ],
      "metadata": {
        "colab": {
          "base_uri": "https://localhost:8080/"
        },
        "id": "zhxhNuBeFsvm",
        "outputId": "e43c96d6-3f02-4ed1-ce41-1344679f21d2"
      },
      "execution_count": null,
      "outputs": [
        {
          "output_type": "stream",
          "name": "stdout",
          "text": [
            "1\n",
            "2\n",
            "3\n",
            "else: 4\n",
            "\n",
            "The \"while\" condition is not met:\n",
            "else: 5\n"
          ]
        }
      ]
    },
    {
      "cell_type": "code",
      "source": [
        "i = 111\n",
        "for i in range(2, 1):\n",
        "    print(i)\n",
        "else:\n",
        "    print(\"else:\", i)\n",
        "\n"
      ],
      "metadata": {
        "id": "pi7IVv91GfVe"
      },
      "execution_count": null,
      "outputs": []
    },
    {
      "cell_type": "markdown",
      "source": [
        "### 3.4 - & vs AND operators"
      ],
      "metadata": {
        "id": "rsvellJpJ6bO"
      }
    },
    {
      "cell_type": "code",
      "source": [
        "# Bitwise \"&\"\" vs logical \"AND\" operators\n",
        "i = 1\n",
        "j = 2\n",
        "k = 4\n",
        "z = 15\n",
        "log = i and j\n",
        "print(\"01b in decimal = \", 0b000010)\n",
        "print(\"10b in decimal = \",0b000001)\n",
        "print(\"100b in decimal = \",0b000100)\n",
        "print(\"1111b in decimal = \",0b00000000000000000000000000001111)\n",
        "print(\"the binary neg for 1111b (32bits) in decimal (11111111111111111111111111110000) = \", ~0b1111)\n",
        "\n",
        "\n",
        "# In Python, the logical AND operator returns the first operand if it is false, \n",
        "# otherwise it returns the second operand. In this case, both \"i\" and \"j\" are \n",
        "# non-zero values, which evaluate to True in a boolean context. Therefore, the \n",
        "# logical AND operation evaluates to the second operand, which is \"j\".\n",
        "\n",
        "print(\"log = \", log)\n",
        "print(\"i and j : \", i and j)\n",
        "print(\"i or j : \",i or j)\n",
        "print(\"i & j : \",i&j)\n",
        "\n",
        "print(\"\\n --- \")\n",
        "print(\"logneg = \", not i)\n",
        "# bitwise (binary negation)\n",
        "print(\"i bitneg = \", ~i)\n",
        "print(\"k bitneg = \", ~k)\n",
        "print(\"z bitneg = \", ~z)\n",
        "\n",
        "print(\"\\n --- Abreviations: \")\n",
        "print('x = x & y\tx &= y (and or conjunction)')\n",
        "print('x = x | y\tx |= y (or)')\n",
        "print('x = x ^ y\tx ^= y (xor)')"
      ],
      "metadata": {
        "colab": {
          "base_uri": "https://localhost:8080/"
        },
        "id": "XY27705-qdjk",
        "outputId": "df702ec9-3687-4ff3-d5aa-569a437ad9f1"
      },
      "execution_count": null,
      "outputs": [
        {
          "output_type": "stream",
          "name": "stdout",
          "text": [
            "01b in decimal =  2\n",
            "10b in decimal =  1\n",
            "100b in decimal =  4\n",
            "1111b in decimal =  15\n",
            "the binary neg for 1111b (32bits) in decimal (11111111111111111111111111110000) =  -16\n",
            "log =  2\n",
            "i and j :  2\n",
            "i or j :  1\n",
            "i & j :  0\n",
            "\n",
            " --- \n",
            "logneg =  False\n",
            "i bitneg =  -2\n",
            "k bitneg =  -5\n",
            "z bitneg =  -16\n",
            "\n",
            " --- Abreviations: \n",
            "x = x & y\tx &= y (and)\n",
            "x = x | y\tx |= y (or)\n",
            "x = x ^ y\tx ^= y (xor)\n"
          ]
        }
      ]
    },
    {
      "cell_type": "markdown",
      "source": [
        "### 3.5 - Shift operators"
      ],
      "metadata": {
        "id": "i09jYCrMHIoJ"
      }
    },
    {
      "cell_type": "code",
      "source": [
        "# The shift operators in Python are a pair of digraphs: << and >>, \n",
        "# clearly suggesting in which direction the shift will act.\n",
        "\n",
        "# value << bits\n",
        "# value >> bits\n",
        "\n",
        "\n",
        "var = 17\n",
        "var_right = var >> 1\n",
        "var_left = var << 2\n",
        "print(var, var_left, var_right)\n",
        "\n",
        "\n",
        "# Notes:\n",
        "\n",
        "# 17 >> 1 → 17 // 2 (17 floor-divided by 2 to the power of 1) → 8 \n",
        "# (shifting to the right by one bit is the same as integer division by two)\n",
        "\n",
        "# 17 << 2 → 17 * 4 (17 multiplied by 2 to the power of 2) → 68 \n",
        "# (shifting to the left by two bits is the same as integer multiplication by four)"
      ],
      "metadata": {
        "colab": {
          "base_uri": "https://localhost:8080/"
        },
        "id": "3NlqeFnEH66d",
        "outputId": "222d6c9c-4037-4234-f94a-d2dbff0843a3"
      },
      "execution_count": null,
      "outputs": [
        {
          "output_type": "stream",
          "name": "stdout",
          "text": [
            "17 68 8\n"
          ]
        }
      ]
    },
    {
      "cell_type": "markdown",
      "source": [
        "### 3.6 - Lists"
      ],
      "metadata": {
        "id": "wZxQ1tipJRdY"
      }
    },
    {
      "cell_type": "code",
      "source": [
        "numbers = [10, 5, 7, 2, 1]\n",
        "print(\"Original list content:\", numbers)  # Printing original list content.\n",
        "\n",
        "numbers[0] = 111\n",
        "print(\"New list content: \", numbers)  # Current list content.\n",
        "\n",
        "print(\"\\nList length:\", len(numbers))  # Printing the list's length.\n",
        "del numbers[1]  # Removing the second element from the list.\n",
        "print(\"New list's length:\", len(numbers))  # Printing new list length.\n",
        "print(\"\\nNew list content:\", numbers)  # Printing current list content.\n",
        "\n",
        "numbers = [111, 7, 2, 1]\n",
        "print(\"Negative indices are legal:\")\n",
        "print(numbers[-1])\n",
        "print(numbers[-2])\n",
        "\n",
        "# Adding elements to a list: the append() and insert() methods.\n",
        "numbers.append(777)\n",
        "numbers.insert(0, 222)\n",
        "print(len(numbers))\n",
        "print(numbers)\n"
      ],
      "metadata": {
        "colab": {
          "base_uri": "https://localhost:8080/"
        },
        "id": "2EeJvPJIJan1",
        "outputId": "7eff8f4e-6829-4a8a-b175-dae190a405f7"
      },
      "execution_count": null,
      "outputs": [
        {
          "output_type": "stream",
          "name": "stdout",
          "text": [
            "Original list content: [10, 5, 7, 2, 1]\n",
            "New list content:  [111, 5, 7, 2, 1]\n",
            "\n",
            "List length: 5\n",
            "New list's length: 4\n",
            "\n",
            "New list content: [111, 7, 2, 1]\n",
            "Negative indices are legal:\n",
            "1\n",
            "2\n",
            "6\n",
            "[222, 111, 7, 2, 1, 777]\n"
          ]
        }
      ]
    },
    {
      "cell_type": "code",
      "source": [
        "# Creating a list from scratch:\n",
        "\n",
        "my_list = []  \n",
        "\n",
        "for i in range(5):\n",
        "    my_list.append(i + 1)\n",
        "\n",
        "print(my_list)"
      ],
      "metadata": {
        "colab": {
          "base_uri": "https://localhost:8080/"
        },
        "id": "xlmEWsO2MOAc",
        "outputId": "e60e9319-c847-4eb0-9c01-b7185d6ad5ae"
      },
      "execution_count": null,
      "outputs": [
        {
          "output_type": "stream",
          "name": "stdout",
          "text": [
            "[1, 2, 3, 4, 5]\n"
          ]
        }
      ]
    },
    {
      "cell_type": "code",
      "source": [
        "# Accessing all the elements of a list:\n",
        "\n",
        "my_list = [10, 1, 8, 3, 5]\n",
        "total = 0\n",
        "\n",
        "for i in range(len(my_list)):\n",
        "    total += my_list[i]\n",
        "\n",
        "print(total)"
      ],
      "metadata": {
        "colab": {
          "base_uri": "https://localhost:8080/"
        },
        "id": "5n5tydsFMg1I",
        "outputId": "69c73b96-e313-4edc-919a-0ca11d91fcf1"
      },
      "execution_count": null,
      "outputs": [
        {
          "output_type": "stream",
          "name": "stdout",
          "text": [
            "27\n"
          ]
        }
      ]
    },
    {
      "cell_type": "code",
      "source": [
        "# Swapping variables & using it to order lists:\n",
        "\n",
        "var1 = 3\n",
        "var2 = 66\n",
        "var1,var2 = var2,var1\n",
        "print(\"var1 =\", var1, \", var2=\", var2)\n",
        "\n",
        "my_list = [10, 1, 8, 3, 5]\n",
        "length = len(my_list)\n",
        "print(\"Lenght of the list: \", length)\n",
        "\n",
        "for i in range(length // 2):\n",
        "    my_list[i], my_list[length - i - 1] = my_list[length - i - 1], my_list[i]\n",
        "\n",
        "print(my_list)\n",
        "\n",
        "# Lists can be nested:\n",
        "my_list = [1, 'a', [\"list\", 64, [0, 1], False]]\n",
        "print(my_list)\n",
        "# Deleting one element:\n",
        "del my_list[2]\n",
        "print(\"3rd element deleted: \", my_list)\n",
        "del my_list  # deletes the whole list\n"
      ],
      "metadata": {
        "colab": {
          "base_uri": "https://localhost:8080/"
        },
        "id": "w83OeAAfNJ6T",
        "outputId": "b41c95d6-388b-4b5b-8cb8-c9cf18122c9d"
      },
      "execution_count": null,
      "outputs": [
        {
          "output_type": "stream",
          "name": "stdout",
          "text": [
            "var1 = 66 , var2= 3\n",
            "Lenght of the list:  5\n",
            "[5, 3, 8, 1, 10]\n",
            "[1, 'a', ['list', 64, [0, 1], False]]\n",
            "Deleting the 3rd element:  [1, 'a']\n"
          ]
        }
      ]
    },
    {
      "cell_type": "code",
      "source": [
        "lst = [1, 2, 3, 4, 5]\n",
        "lst.insert(1, 6)\n",
        "print(lst)\n",
        "del lst[0]\n",
        "lst.append(1)\n",
        "print(lst)\n"
      ],
      "metadata": {
        "colab": {
          "base_uri": "https://localhost:8080/"
        },
        "id": "PN6VzzFJdxMg",
        "outputId": "898d1db9-d35c-4d04-bce1-06011bb38968"
      },
      "execution_count": null,
      "outputs": [
        {
          "output_type": "stream",
          "name": "stdout",
          "text": [
            "[1, 6, 2, 3, 4, 5]\n",
            "[6, 2, 3, 4, 5, 1]\n"
          ]
        }
      ]
    },
    {
      "cell_type": "code",
      "source": [
        "# Bubble sort:\n",
        "my_list = [8, 10, 6, 2, 4]  # list to sort\n",
        "swapped = True  # It's a little fake, we need it to enter the while loop.\n",
        "\n",
        "while swapped:\n",
        "    swapped = False  # no swaps so far\n",
        "    for i in range(len(my_list) - 1):\n",
        "        if my_list[i] > my_list[i + 1]:\n",
        "            swapped = True  # a swap occurred!\n",
        "            my_list[i], my_list[i + 1] = my_list[i + 1], my_list[i]\n",
        "\n",
        "print(my_list)\n",
        "\n",
        "# The \"sort()\" and \"reverse()\" functions:\n",
        "\n",
        "a = \"A\"\n",
        "b = \"B\"\n",
        "c = \"C\"\n",
        "d = \" \"\n",
        "\n",
        "my_list = [a, b, c, d]\n",
        "my_list.sort()\n",
        "print(\"List sorted with sort(): \", my_list)\n",
        "my_list.reverse()\n",
        "print(\"List sorted with reverse(): \", my_list)\n",
        "\n",
        "my_list =[3,33,0]\n",
        "reverse = []\n",
        "\n",
        "ordered_list = sorted(my_list)\n",
        "print(\"\\nOrdered list: \",ordered_list)\n",
        "ordered_list.reverse()\n",
        "print(ordered_list) \n",
        "# ATTENTION: do not try to do -> rev = ordered_list.reverse()\n",
        "# or print (ordered_list.reverse()). An alternative, once \"ordered_list.reverse()\"\n",
        "# has been execueted:\n",
        "rev = ordered_list[:]\n",
        "print(rev) "
      ],
      "metadata": {
        "colab": {
          "base_uri": "https://localhost:8080/"
        },
        "id": "IF5DecXHk-ak",
        "outputId": "a400d7ad-51f0-4d38-bc87-9759187b55c4"
      },
      "execution_count": null,
      "outputs": [
        {
          "output_type": "stream",
          "name": "stdout",
          "text": [
            "[2, 4, 6, 8, 10]\n",
            "List sorted with sort():  [' ', 'A', 'B', 'C']\n",
            "List sorted with reverse():  ['C', 'B', 'A', ' ']\n",
            "\n",
            "Ordered list:  [0, 3, 33]\n",
            "[33, 3, 0]\n",
            "[33, 3, 0]\n"
          ]
        }
      ]
    },
    {
      "cell_type": "code",
      "source": [
        "my_list = [0, 3, 33]\n",
        "my_list.reverse()\n",
        "print(my_list)"
      ],
      "metadata": {
        "colab": {
          "base_uri": "https://localhost:8080/"
        },
        "id": "yKM3EHcmB-Mo",
        "outputId": "9865243c-37b5-4689-9b39-2541633bc1dc"
      },
      "execution_count": null,
      "outputs": [
        {
          "output_type": "stream",
          "name": "stdout",
          "text": [
            "[33, 3, 0]\n"
          ]
        }
      ]
    },
    {
      "cell_type": "code",
      "source": [
        "# List and memory location\n",
        "\n",
        "#  Lists (and many other complex Python entities) are stored in different ways \n",
        "#  than ordinary (scalar) #  variables.\n",
        "\n",
        "#  You could say that:\n",
        "#  \n",
        "#  the name of an ordinary variable is the name of its content;\n",
        "#  the name of a list is the name of a memory location where the list is stored.\n",
        "#  Read these two lines once more - the difference is essential for understanding \n",
        "#  what we are going to talk about next.\n",
        "#  The assignment: list_2 = list_1 copies the name of the array, not its contents.\n",
        "#  In effect, the two names (list_1 and list_2) identify the same location in \n",
        "#  the computer memory. Modifying one of them affects the other, and vice versa.\n",
        "\n",
        "list_1 = [1]\n",
        "list_2 = list_1\n",
        "list_1[0] = 2\n",
        "print(list_2)\n",
        "\n",
        "# SLICES\n",
        "\n",
        "# A slice is an element of Python syntax that allows you to make a brand new\n",
        "# copy of a list, or parts of a list.\n",
        "# It actually copies the list's contents, not the list's name.\n",
        "\n",
        "print(\"\\n--- SLICES ---\\n\")\n",
        "list_1 = [1]\n",
        "list_2 = list_1[:] # Copying the entire list.\n",
        "list_1[0] = 2\n",
        "print(\"list_2 = \", list_2)\n",
        "\n",
        "# Copying some part of the list (my_list[start:end-1]).\n",
        "my_list = [10, 8, 6, 4, 2]\n",
        "new_list = my_list[1:3]\n",
        "print(\"my_list[1:3] = \", my_list[1:3])\n",
        "print(\"new_list = \", new_list)\n",
        "\n",
        "# SLICES with negative indices\n",
        "\n",
        "# start is the index of the first element included in the slice;\n",
        "# end is the index of the first element not included in the slice.\n",
        "\n",
        "print(\"\\n--- SLICES with negative indices ---\\n\")\n",
        "my_list = [10, 8, 6, 4, 2, 33]\n",
        "\n",
        "print('my_list = ', my_list)\n",
        "print(\"not valid -> print('my_list[] = ', my_list[])\")\n",
        "print('my_list[:] = ', my_list[:])\n",
        "print('my_list[-2] = ',my_list[-2])\n",
        "print('my_list[2:] = ',my_list[2:])\n",
        "print('my_list[-2:] = ',my_list[-2:])\n",
        "print('my_list[:2] = ',my_list[:2])\n",
        "print('my_list[:-2] = ',my_list[:-2])\n",
        "print('my_list[1:-1] = ',my_list[1:-1])\n",
        "# If we add elements and we don't know the lenght:\n",
        "print('my_list[:len(my_list)] = ', my_list[:len(my_list)])\n",
        "# Deleting an interval:\n",
        "my_list = [10, 8, 6, 4, 2]\n",
        "del my_list[1:3]\n",
        "print('my_list = ', my_list)\n",
        "print('del my_list[1:3] = ', my_list)\n",
        "\n",
        "# Deleting all the list's elements (all content):\n",
        "del my_list[:]\n",
        "print('my_list =', my_list)\n",
        "\n",
        "# Deleting the list itself: \n",
        "my_list = [10, 8, 6, 4, 2]\n",
        "del my_list\n",
        "print('print(my_list) -> ERROR');\n",
        "\n",
        "# Optimizing computer power with SLICES:\n",
        "\n",
        "my_list = [17, 3, 11, 5, 1, 9, 7, 15, 13]\n",
        "largest = my_list[0]\n",
        "\n",
        "## By using \"for i in mylist\" we'd unecessarily compare the first element,\n",
        "## which is know to be the greatest, so we use:\n",
        "for i in my_list[1:]: \n",
        "    if i > largest:\n",
        "        largest = i\n",
        "\n",
        "print(\"Largest = \", largest)"
      ],
      "metadata": {
        "colab": {
          "base_uri": "https://localhost:8080/"
        },
        "id": "eFE8dD0Jo4Fc",
        "outputId": "154317ac-0d01-43a5-e60a-c0434e833ce1"
      },
      "execution_count": null,
      "outputs": [
        {
          "output_type": "stream",
          "name": "stdout",
          "text": [
            "[2]\n",
            "\n",
            "--- SLICES ---\n",
            "\n",
            "list_2 =  [1]\n",
            "my_list[1:3] =  [8, 6]\n",
            "new_list =  [8, 6]\n",
            "\n",
            "--- SLICES with negative indices ---\n",
            "\n",
            "my_list =  [10, 8, 6, 4, 2, 33]\n",
            "not valid -> print('my_list[] = ', my_list[])\n",
            "my_list[:] =  [10, 8, 6, 4, 2, 33]\n",
            "my_list[-2] =  2\n",
            "my_list[2:] =  [6, 4, 2, 33]\n",
            "my_list[-2:] =  [2, 33]\n",
            "my_list[:2] =  [10, 8]\n",
            "my_list[:-2] =  [10, 8, 6, 4]\n",
            "my_list[1:-1] =  [8, 6, 4, 2]\n",
            "my_list[:len(my_list)] =  [10, 8, 6, 4, 2, 33]\n",
            "my_list =  [10, 4, 2]\n",
            "del my_list[1:3] =  [10, 4, 2]\n",
            "my_list = []\n",
            "print(my_list) -> ERROR\n",
            "Largest =  17\n"
          ]
        }
      ]
    },
    {
      "cell_type": "code",
      "source": [
        "# The in and not in operators\n",
        "\n",
        "my_list = [0, 3, 12, 8, 2]\n",
        "\n",
        "print(5 in my_list)\n",
        "print(5 not in my_list)\n",
        "print(12 in my_list)\n",
        "\n",
        "# Practical application: given some numbers that have been drawn,\n",
        "# how many numbers have you hit among the ones used in your bet?\n",
        "\n",
        "drawn = [5, 11, 9, 42, 3, 49]\n",
        "bets = [3, 7, 11, 42, 34, 49]\n",
        "hits = 0\n",
        "\n",
        "for number in bets:\n",
        "    if number in drawn:\n",
        "        hits += 1\n",
        "\n",
        "print('drawn = [5, 11, 9, 42, 3, 49]')\n",
        "print('bets = [3, 7, 11, 42, 34, 49]')\n",
        "print('hits = ', hits)"
      ],
      "metadata": {
        "colab": {
          "base_uri": "https://localhost:8080/"
        },
        "id": "vOgBWzdX8t8X",
        "outputId": "673e87f1-bf98-4739-e258-b7789440b326"
      },
      "execution_count": null,
      "outputs": [
        {
          "output_type": "stream",
          "name": "stdout",
          "text": [
            "False\n",
            "True\n",
            "True\n",
            "drawn = [5, 11, 9, 42, 3, 49]\n",
            "bets = [3, 7, 11, 42, 34, 49]\n",
            "hits =  4\n"
          ]
        }
      ]
    },
    {
      "cell_type": "code",
      "source": [
        "# Example: Erase repeated elements in a list:\n",
        "\n",
        "my_list = [1, 2, 4, 4, 1, 4, 2, 6, 2, 9]\n",
        "aux_list = []\n",
        "for i in my_list:\n",
        "    if i not in aux_list:\n",
        "        aux_list.append(i)\n",
        "\n",
        "print(\"The list with unique elements only:\")\n",
        "print(aux_list)"
      ],
      "metadata": {
        "colab": {
          "base_uri": "https://localhost:8080/"
        },
        "id": "-ISMPbp2DxPQ",
        "outputId": "4bb551f3-584a-44e0-d6e4-6ada005bac0d"
      },
      "execution_count": null,
      "outputs": [
        {
          "output_type": "stream",
          "name": "stdout",
          "text": [
            "The list with unique elements only:\n",
            "[1, 2, 4, 6, 9]\n"
          ]
        }
      ]
    },
    {
      "cell_type": "code",
      "source": [
        "# List in lists: \n",
        "\n",
        "# LIST COMPREHENSIONS\n",
        "\n",
        "# Special syntax used by Python in order to fill massive lists.\n",
        "# A list comprehension is actually a list, but created on-the-fly\n",
        "# during program execution, and is not described statically:\n",
        "\n",
        "\n",
        "squares = [x ** 2 for x in range(1,3)]\n",
        "print(\"Squares's lenght: \", len(squares))\n",
        "print(\"Squares: \", squares)\n",
        "squares = [x ** 2 for x in range(10)]\n",
        "print(\"Squares: \", squares)\n",
        "odds = [x for x in squares if x % 2 != 0 ]\n",
        "print(\"Odds: \", odds)"
      ],
      "metadata": {
        "colab": {
          "base_uri": "https://localhost:8080/"
        },
        "id": "L1l2qV8LMpG3",
        "outputId": "2365e147-efd0-4e1e-98f0-f4926f00d531"
      },
      "execution_count": null,
      "outputs": [
        {
          "output_type": "stream",
          "name": "stdout",
          "text": [
            "Squares's lenght:  2\n",
            "Squares:  [1, 4]\n",
            "Squares:  [0, 1, 4, 9, 16, 25, 36, 49, 64, 81]\n",
            "Odds:  [1, 9, 25, 49, 81]\n"
          ]
        }
      ]
    },
    {
      "cell_type": "code",
      "source": [
        "# ARRAYS\n",
        "\n",
        "# Two dimensional arrays:\n",
        "\n",
        "print(\"\\n--- Three dimensional arrays ---\\n\")\n",
        "\n",
        "board = []\n",
        "\n",
        "for i in range(4):\n",
        "    row = [j for j in range(2)]\n",
        "    board.append(row)\n",
        "print(board)\n",
        "\n",
        "# Equivalent version with list comprehension:\n",
        "del(board)\n",
        "board = [[j for j in range(2)] for i in range(4)]\n",
        "print(board)\n",
        "\n",
        "# Example 2:\n",
        "del(board)\n",
        "board = [[x**2 for x in range(2)] for i in range(4)]\n",
        "print('Example 2:', board)\n",
        "\n",
        "# Example 3:\n",
        "del(board)\n",
        "board = [[2**x for x in range(2)] for i in range(4)]\n",
        "print('Example 3:', board)\n",
        "\n",
        "# Example 4:\n",
        "del(board)\n",
        "# board = [[x for x in squares if x % 2 != 0] for i in range(4)]\n",
        "board = [[x for x in [x ** 2 for x in range(10)] if x % 2 != 0] for i in range(4)]\n",
        "print('Example 4:', board)\n",
        "\n",
        "del(board)\n",
        "# board = [[x for x in squares if x % 2 != 0] for i in range(4)]\n",
        "board = [[x for x in [x ** 2 for x in range(10)] if x % 2 != 0] for x in range(4)]\n",
        "print('Example 5:', board)\n",
        "\n",
        "# Three dimensional arrays:\n",
        "\n",
        "print(\"\\n--- Three dimensional arrays ---\\n\")\n",
        "i=3\n",
        "rooms = [[[i for r in range(2)] for f in range(3)] for t in range(4)]\n",
        "print(rooms)\n"
      ],
      "metadata": {
        "colab": {
          "base_uri": "https://localhost:8080/"
        },
        "id": "chvm5lPfSDzk",
        "outputId": "ac8d5af6-9d7c-4b74-ecb4-b85ddc885009"
      },
      "execution_count": null,
      "outputs": [
        {
          "output_type": "stream",
          "name": "stdout",
          "text": [
            "\n",
            "--- Three dimensional arrays ---\n",
            "\n",
            "[[0, 1], [0, 1], [0, 1], [0, 1]]\n",
            "[[0, 1], [0, 1], [0, 1], [0, 1]]\n",
            "Example 2: [[0, 1], [0, 1], [0, 1], [0, 1]]\n",
            "Example 3: [[1, 2], [1, 2], [1, 2], [1, 2]]\n",
            "Example 4: [[1, 9, 25, 49, 81], [1, 9, 25, 49, 81], [1, 9, 25, 49, 81], [1, 9, 25, 49, 81]]\n",
            "Example 5: [[1, 9, 25, 49, 81], [1, 9, 25, 49, 81], [1, 9, 25, 49, 81], [1, 9, 25, 49, 81]]\n",
            "\n",
            "--- Three dimensional arrays ---\n",
            "\n",
            "[[[3, 3], [3, 3], [3, 3]], [[3, 3], [3, 3], [3, 3]], [[3, 3], [3, 3], [3, 3]], [[3, 3], [3, 3], [3, 3]]]\n"
          ]
        }
      ]
    },
    {
      "cell_type": "code",
      "source": [
        "## OTHER TESTS\n",
        "i=1\n",
        "print (i%2)\n",
        "nums=[1,2,3]\n",
        "print(\"yes->\",nums[-1:-2])\n",
        "for i in range(1):\n",
        "  print(\"x\")\n",
        "else:\n",
        "  print(\"x\")\n",
        "print(\"len ->\",len([i for i in range(-1,2)]))\n",
        "my=[1,2,3,4]\n",
        "print(\"Hello ->\", my[-3:-2])\n",
        "\n",
        "var=1\n",
        "while var < 10:\n",
        "  print(\"#\")\n",
        "  var = var << 1\n",
        "\n",
        "z=10\n",
        "y=0\n",
        "print(y<z and z>y or y>z and z<y)\n",
        "\n",
        "vals=[0, 1, 2]\n",
        "vals.insert(0,1)\n",
        "print(vals)\n",
        "del vals[1]\n",
        "print(vals)\n",
        "print(vals[0]+vals[1]+vals[2])\n",
        "\n",
        "print(\"nene:\")\n",
        "l = 3\n",
        "for v in range(l):\n",
        " print(v, end=\"\")\n",
        " \n",
        "a=1\n",
        "b=0\n",
        "print(\"h->\", a ^ b)\n",
        "\n",
        "my=[3,1,-2]\n",
        "print(\"my->\",my[my[2]])"
      ],
      "metadata": {
        "colab": {
          "base_uri": "https://localhost:8080/"
        },
        "id": "luH4ouu5CR9K",
        "outputId": "ebb7f6e2-1504-466d-e68d-6c808602542f"
      },
      "execution_count": null,
      "outputs": [
        {
          "output_type": "stream",
          "name": "stdout",
          "text": [
            "1\n",
            "yes-> []\n",
            "x\n",
            "x\n",
            "len -> 3\n",
            "Hello -> [2]\n",
            "#\n",
            "#\n",
            "#\n",
            "#\n",
            "True\n",
            "[1, 0, 1, 2]\n",
            "[1, 1, 2]\n",
            "4\n",
            "nene:\n",
            "012h-> 1\n",
            "my-> 1\n"
          ]
        }
      ]
    },
    {
      "cell_type": "markdown",
      "source": [
        "## 4 - Functions"
      ],
      "metadata": {
        "id": "XVCGtHQrV74c"
      }
    },
    {
      "cell_type": "code",
      "source": [
        "# In general, functions come from at least three places:\n",
        "# \n",
        "# -> from Python itself - numerous functions (like print()) are an integral part of Python, and are always # available without any additional effort on behalf of the programmer; we call these functions built-in # functions;\n",
        "# -> from Python's preinstalled modules - a lot of functions, very useful ones, but used significantly less#  often than built-in ones, are available in a number of modules installed together with Python; the us# e of these functions requires some additional steps from the programmer in order to make them fully accessible (we'll tell you about this in a while);\n",
        "# -> directly from your code - you can write your own functions, place them inside your code, and use them # freely;# \n",
        "# -> there is one other possibility, but it's connected with classes, so we'll omit it for now. \n",
        "\n"
      ],
      "metadata": {
        "id": "-kZ1nRhhWRfl"
      },
      "execution_count": null,
      "outputs": []
    },
    {
      "cell_type": "markdown",
      "source": [
        "### 4.1 - Keyword argument passing"
      ],
      "metadata": {
        "id": "Vfg5eA9qaacp"
      }
    },
    {
      "cell_type": "code",
      "source": [
        "def introduction(first_name, last_name):\n",
        "    print(\"Hello, my name is\", first_name, last_name)\n",
        "\n",
        "def adding(a, b, c):\n",
        "    print(a, \"+\", b, \"+\", c, \"=\", a + b + c)\n",
        "\n",
        "# Call the functions:\n",
        "introduction(first_name = \"James\", last_name = \"Bond\")\n",
        "introduction(last_name = \"Skywalker\", first_name = \"Luke\")\n",
        "adding(3, c = 1, b = 2)\n",
        "\n",
        "\n",
        "# Let's analyze it:\n",
        "# \n",
        "# - the argument (3) for the a parameter is passed using the positional way;\n",
        "# - the arguments for c and b are specified as keyword ones."
      ],
      "metadata": {
        "colab": {
          "base_uri": "https://localhost:8080/"
        },
        "id": "eddO_Posahbo",
        "outputId": "1f235e43-cd7a-4c0a-bb23-179a942f1661"
      },
      "execution_count": null,
      "outputs": [
        {
          "output_type": "stream",
          "name": "stdout",
          "text": [
            "Hello, my name is James Bond\n",
            "Hello, my name is Luke Skywalker\n",
            "3 + 2 + 1 = 6\n"
          ]
        }
      ]
    },
    {
      "cell_type": "markdown",
      "source": [
        "### 4.2 - \"Return\" and scope of a function"
      ],
      "metadata": {
        "id": "jjD4uG4JsqKO"
      }
    },
    {
      "cell_type": "code",
      "source": [
        "# The \"return\" instruction.\n",
        "# If a function is not intended to produce a result, using the return instruction \n",
        "# is not obligatory - it will be executed implicitly at the end of the function.\n",
        "\n",
        "def happy_new_year(wishes = True):\n",
        "    print(\"Three...\")\n",
        "    print(\"Two...\")\n",
        "    print(\"One...\")\n",
        "    if not wishes:\n",
        "        return\n",
        "    print(\"Happy New Year!\")\n",
        "\n",
        "# Invoking the function:\n",
        "happy_new_year()\n",
        "happy_new_year(False)\n",
        "\n",
        "# \"Return\" with an expression:\n",
        "\n",
        "def boring_function():\n",
        "    return 123\n",
        "x = boring_function()\n",
        "print(\"The boring_function has returned its result. It's:\", x)\n",
        "\n",
        "# The \"none\" keyword:\n",
        "\n",
        "# There are only two kinds of circumstances when None can be safely used:\n",
        "# - when you assign it to a variable (or return it as a function's result)\n",
        "# - when you compare it with a variable to diagnose its internal state.\n",
        "\n",
        "# If a function doesn't return a certain value using a return expression clause,\n",
        "# it is assumed that it implicitly returns None.\n",
        "\n",
        "def strange_function(n):\n",
        "    if(n % 2 == 0):\n",
        "        return True\n",
        "        # If we only add \"return\", its value will be \"None\" by default:\n",
        "        # return\n",
        "print('Triggering \"True\": ', strange_function(2))\n",
        "print('Triggering \"None\": ', strange_function(1))\n",
        "\n",
        "def is_int(data):\n",
        "    if type(data) == int:\n",
        "        return True\n",
        "    elif type(data) == float:\n",
        "        return False\n",
        "\n",
        "print('is_int(5)', is_int(5))\n",
        "print('is_int(5)', is_int(5.0))\n",
        "print('Triggering \"None\", again -> ',is_int(\"5\"))\n",
        "\n",
        "# Lists in funcions:\n",
        "\n",
        "def list_sum(lst):\n",
        "    s = 0\n",
        "    \n",
        "    for elem in lst:\n",
        "        s += elem\n",
        "    print(\"My list is\", lst)\n",
        "    return s\n",
        "\n",
        "print(\"The list's elements sume is = \", list_sum([5, 4, 3]))\n",
        "print('print(list_sum(5) -> TypeError: \"int\" object is not iterable')\n",
        "\n"
      ],
      "metadata": {
        "colab": {
          "base_uri": "https://localhost:8080/"
        },
        "id": "H55T78q6eO95",
        "outputId": "99e7bac9-23ea-4f1b-e7da-a56c589cf8f9"
      },
      "execution_count": null,
      "outputs": [
        {
          "output_type": "stream",
          "name": "stdout",
          "text": [
            "Three...\n",
            "Two...\n",
            "One...\n",
            "Happy New Year!\n",
            "Three...\n",
            "Two...\n",
            "One...\n",
            "The boring_function has returned its result. It's: 123\n",
            "Triggering \"True\":  True\n",
            "Triggering \"None\":  None\n",
            "True\n",
            "False\n",
            "Triggering \"None\", again ->  None\n",
            "My list is [5, 4, 3]\n",
            "The list's elements sume is =  12\n",
            "print(list_sum(5) -> TypeError: \"int\" object is not iterable\n"
          ]
        }
      ]
    },
    {
      "cell_type": "code",
      "source": [
        "# Functions and scopes:\n",
        "\n",
        "# A variable existing outside a function has a scope inside the functions' bodies.\n",
        "\n",
        "def my_function():\n",
        "    print(\"Do I know that variable?\", var)\n",
        "\n",
        "var = 1\n",
        "my_function()\n",
        "print(var)"
      ],
      "metadata": {
        "colab": {
          "base_uri": "https://localhost:8080/"
        },
        "id": "N1eoAtMVpOTY",
        "outputId": "99df3fbe-6a07-49ea-ee78-b100b9a8cad4"
      },
      "execution_count": null,
      "outputs": [
        {
          "output_type": "stream",
          "name": "stdout",
          "text": [
            "Do I know that variable? 1\n",
            "1\n"
          ]
        }
      ]
    },
    {
      "cell_type": "code",
      "source": [
        "# The \"global\" keyword:\n",
        "\n",
        "# There's a special Python method which can extend a variable's scope in \n",
        "# a way which includes the functions' bodies (even if you want not only to read the values, but also to modify them).\n",
        "# \n",
        "# Such an effect is caused by a keyword named global:\n",
        "\n",
        "def my_function():\n",
        "    global var\n",
        "    var = 2\n",
        "    print(\"Do I know that variable?\", var)\n",
        "\n",
        "var = 1\n",
        "my_function()\n",
        "print(\"var = \",var)"
      ],
      "metadata": {
        "colab": {
          "base_uri": "https://localhost:8080/"
        },
        "id": "xEws07gQp-m0",
        "outputId": "afafed9d-3134-40c4-f74f-661b6d66ca28"
      },
      "execution_count": null,
      "outputs": [
        {
          "output_type": "stream",
          "name": "stdout",
          "text": [
            "Do I know that variable? 2\n",
            "var =  2\n"
          ]
        }
      ]
    },
    {
      "cell_type": "markdown",
      "source": [
        "### 4.3 - Recursion: an example"
      ],
      "metadata": {
        "id": "njarW6wXrT2v"
      }
    },
    {
      "cell_type": "code",
      "source": [
        "# Some simple functions: recursion\n",
        "\n",
        "# Fibonacci\n",
        "\n",
        "def fib(n):\n",
        "    if n < 1:\n",
        "        return None\n",
        "    if n < 3:\n",
        "        return 1\n",
        "    return fib(n - 1) + fib(n - 2)\n",
        "\n",
        "for n in range(1, 10):\n",
        "    print(n, \"->\", fib(n))"
      ],
      "metadata": {
        "colab": {
          "base_uri": "https://localhost:8080/"
        },
        "id": "ksGTL4bFvF5_",
        "outputId": "2c2107e6-f2aa-409a-aaed-33561c13e332"
      },
      "execution_count": null,
      "outputs": [
        {
          "output_type": "stream",
          "name": "stdout",
          "text": [
            "1 -> 1\n",
            "2 -> 1\n",
            "3 -> 2\n",
            "4 -> 3\n",
            "5 -> 5\n",
            "6 -> 8\n",
            "7 -> 13\n",
            "8 -> 21\n",
            "9 -> 34\n"
          ]
        }
      ]
    },
    {
      "cell_type": "markdown",
      "source": [
        "## 5- Tuples and dictionaries"
      ],
      "metadata": {
        "id": "GSaPg-vWtYDX"
      }
    },
    {
      "cell_type": "code",
      "source": [
        "# A sequence type is a type of data in Python which is able to store more than \n",
        "# one value (or less than one, as a sequence may be empty), and these values can\n",
        "# be sequentially (hence the name) browsed, element by element.\n",
        "# \n",
        "# As the for loop is a tool especially designed to iterate through sequences, we\n",
        "# can express the definition as: a sequence is data which can be scanned by the \n",
        "# for loop.\n",
        "\n",
        "\n",
        "# The second notion - mutability - is a property of any of Python's data that \n",
        "# describes its readiness to be freely changed during program execution. There \n",
        "# are two kinds of Python data: mutable and immutable.\n",
        "#    \n",
        "# Mutable data can be freely updated at any time - we call such an operation \n",
        "# in situ. For example: list.append(1)"
      ],
      "metadata": {
        "id": "2Nwe-1l1uCTl"
      },
      "execution_count": null,
      "outputs": []
    },
    {
      "cell_type": "markdown",
      "source": [
        "### 5.1 - Tuples"
      ],
      "metadata": {
        "id": "2RJMG5Gvu8uz"
      }
    },
    {
      "cell_type": "code",
      "source": [
        "# A tuple is an immutable sequence type. It can behave like a list, but it \n",
        "# mustn't be modified in situ.\n",
        "\n",
        "# The first and the clearest distinction between lists and tuples\n",
        "# is the syntax used to create them - tuples prefer to use parenthesis,\n",
        "# whereas lists like to see brackets, although it's also possible to \n",
        "# create a tuple just from a set of values separated by commas.\n",
        "\n",
        "tuple_1 = (1, 2, 4, 8)\n",
        "tuple_2 = 1., .5, .25, .125\n",
        "\n",
        "print(tuple_1)\n",
        "print(tuple_2)\n"
      ],
      "metadata": {
        "colab": {
          "base_uri": "https://localhost:8080/"
        },
        "id": "m3cdYB3MvCj-",
        "outputId": "488a7f1d-3bb1-4f1d-f3be-c945bc2b9e09"
      },
      "execution_count": null,
      "outputs": [
        {
          "output_type": "stream",
          "name": "stdout",
          "text": [
            "(1, 2, 4, 8)\n",
            "(1.0, 0.5, 0.25, 0.125)\n"
          ]
        }
      ]
    },
    {
      "cell_type": "code",
      "source": [
        "# Creating a tuple from scratch:\n",
        "\n",
        "empty_tuple = ()\n",
        "\n",
        "# One-element tuple:\n",
        "\n",
        "one_element_tuple_1 = (1, )\n",
        "one_element_tuple_2 = 1.,\n",
        "\n",
        "print('one_element_tuple_1 = ', one_element_tuple_1)\n",
        "print('one_element_tuple_2 = ', one_element_tuple_2)\n",
        "\n",
        "print(\"\\n--- ---\")\n",
        "my_tuple = (1, 10, 100, 1000)\n",
        "\n",
        "print(\"my_tuple = \",my_tuple)\n",
        "print(\"my_tuple[0] = \",my_tuple[0])\n",
        "print(\"my_tuple[-1] = \",my_tuple[-1])\n",
        "print(\"my_tuple[1:] = \",my_tuple[1:])\n",
        "print(\"my_tuple[:-2] = \",my_tuple[:-2])\n",
        "print(\"my_tuple[1:-1] = \",my_tuple[1:-1])\n",
        "print(\"my_tuple[1:-2] = \",my_tuple[1:-2])\n",
        "\n",
        "for elem in my_tuple:\n",
        "    print(elem, end=\",\")\n",
        "\n",
        "print(\"\\n\\ndel my_tuple[0] -> AttributeError: 'tuple' object has no attribute 'append'\")"
      ],
      "metadata": {
        "colab": {
          "base_uri": "https://localhost:8080/"
        },
        "id": "iVC5Yoa3vutE",
        "outputId": "915b3e2f-f388-4a0e-f490-1aaeda8edcbd"
      },
      "execution_count": null,
      "outputs": [
        {
          "output_type": "stream",
          "name": "stdout",
          "text": [
            "one_element_tuple_1 =  (1,)\n",
            "one_element_tuple_2 =  (1.0,)\n",
            "\n",
            "--- ---\n",
            "my_tuple =  (1, 10, 100, 1000)\n",
            "my_tuple[0] =  1\n",
            "my_tuple[-1] =  1000\n",
            "my_tuple[1:] =  (10, 100, 1000)\n",
            "my_tuple[:-2] =  (1, 10)\n",
            "my_tuple[1:-1] =  (10, 100)\n",
            "my_tuple[1:-2] =  (10,)\n",
            "1,10,100,1000,\n",
            "\n",
            "del my_tuple[0] -> AttributeError: 'tuple' object has no attribute 'append'\n"
          ]
        }
      ]
    },
    {
      "cell_type": "code",
      "source": [
        "# Operations\n",
        "\n",
        "my_tuple = (1, 10, 100)\n",
        "\n",
        "t1 = my_tuple + (1000, 10000) # The \"+\" operator join tuples together.\n",
        "t2 = my_tuple * 3 # Increases the tuples 3 times.\n",
        "\n",
        "print(len(t2))\n",
        "print(t1)\n",
        "print(t2)\n",
        "print(10 in my_tuple)\n",
        "print(-10 not in my_tuple)"
      ],
      "metadata": {
        "colab": {
          "base_uri": "https://localhost:8080/"
        },
        "id": "zDfeDXvj0Mps",
        "outputId": "b66708f5-527d-4bdc-ae56-26b126a566cb"
      },
      "execution_count": null,
      "outputs": [
        {
          "output_type": "stream",
          "name": "stdout",
          "text": [
            "9\n",
            "(1, 10, 100, 1000, 10000)\n",
            "(1, 10, 100, 1, 10, 100, 1, 10, 100)\n",
            "True\n",
            "True\n"
          ]
        }
      ]
    },
    {
      "cell_type": "code",
      "source": [
        "var = 123\n",
        "\n",
        "t1 = (1, )\n",
        "t2 = (2, )\n",
        "t3 = (3, var)\n",
        "\n",
        "t1, t2, t3 = t2, t3, t1\n",
        "\n",
        "print(t1, t2, t3)"
      ],
      "metadata": {
        "colab": {
          "base_uri": "https://localhost:8080/"
        },
        "id": "S-KtvhEr1vkF",
        "outputId": "8d37bddb-7cff-4569-8970-0bc3cbe7b94f"
      },
      "execution_count": null,
      "outputs": [
        {
          "output_type": "stream",
          "name": "stdout",
          "text": [
            "(2,) (3, 123) (1,)\n"
          ]
        }
      ]
    },
    {
      "cell_type": "markdown",
      "source": [
        "### 5.2 - Dictionaries"
      ],
      "metadata": {
        "id": "iWC6uoEj2sS0"
      }
    },
    {
      "cell_type": "code",
      "source": [
        "# The dictionary is another Python data structure. It's not a sequence type (but\n",
        "# can be easily adapted to sequence processing) and it is mutable.\n",
        "\n",
        "\n",
        "# A dictionary is a set of key-value pairs:\n",
        "\n",
        "# - each key must be unique - it's not possible to have more than one key of \n",
        "# the same value;\n",
        "\n",
        "# - a key may be any immutable type of object: it can be a number (integer or \n",
        "# float), or even a string, but not a list;\n",
        "\n",
        "# - a dictionary is not a list - a list contains a set of numbered values, \n",
        "# while a dictionary holds pairs of values;\n",
        "\n",
        "# - the len() function works for dictionaries, too - it returns the numbers of\n",
        "# key-value elements in the dictionary;\n",
        "\n",
        "# - a dictionary is a one-way tool - if you have an English-French dictionary, \n",
        "# you can look for French equivalents of English terms, but not vice versa.\n",
        "\n",
        "\n",
        "dictionary = {\"horse\": \"cheval\", \"cat\": \"chat\", \"dog\": \"chien\"}\n",
        "phone_numbers = {'boss': 5551234567, 'Suzy': 22657854310}\n",
        "empty_dictionary = {}\n",
        "\n",
        "# IMPORTANT: (*) In Python 3.6x dictionaries have become ordered collections by \n",
        "# default. Your results may vary depending on what Python version you're using.\n",
        "\n",
        "print(dictionary)\n",
        "print(phone_numbers)\n",
        "print(empty_dictionary)\n",
        "print(dictionary['cat'])\n",
        "print(phone_numbers['Suzy'])\n",
        "print(\"print(phone_numbers['president']) -> ERROR -> KeyError: 'president' \")\n",
        "\n"
      ],
      "metadata": {
        "colab": {
          "base_uri": "https://localhost:8080/"
        },
        "id": "kvUkS_86251Z",
        "outputId": "a72ae617-b624-4b91-9794-17166720ec17"
      },
      "execution_count": null,
      "outputs": [
        {
          "output_type": "stream",
          "name": "stdout",
          "text": [
            "{'horse': 'cheval', 'cat': 'chat', 'dog': 'chien'}\n",
            "{'boss': 5551234567, 'Suzy': 22657854310}\n",
            "{}\n",
            "chat\n",
            "22657854310\n",
            "print(phone_numbers['president']) -> ERROR -> KeyError: 'president' \n"
          ]
        }
      ]
    },
    {
      "cell_type": "code",
      "source": [
        "# Checking the content of a dictionary:\n",
        "\n",
        "print(\"\\n\\n--- Checking the content of a dictionary ---\\n\\n\")\n",
        "\n",
        "#  We create the dictionary with \"hanging indent\": \n",
        "dict = { \n",
        "        \"horse\":\"cheval\",\n",
        "        \"cat\":\"chat\",\n",
        "        \"dog\":\"chien\"\n",
        "        }\n",
        "word_list = ['cat', 'lion', 'horse']\n",
        "\n",
        "print(\"My word list:\", word_list)\n",
        "for word in word_list:\n",
        "  if word in dict:\n",
        "    print(word, \" -> \", dict[word])\n",
        "  else:\n",
        "    print(word, \"is not in dictionary\")\n"
      ],
      "metadata": {
        "colab": {
          "base_uri": "https://localhost:8080/"
        },
        "id": "3R6g3H2G9vcV",
        "outputId": "c3c4c69b-d623-4e37-c214-6f0a4486bd2b"
      },
      "execution_count": null,
      "outputs": [
        {
          "output_type": "stream",
          "name": "stdout",
          "text": [
            "\n",
            "\n",
            "--- Checking the content of a dictionary ---\n",
            "\n",
            "\n",
            "My word list: ['cat', 'lion', 'horse']\n",
            "cat  ->  chat\n",
            "lion is not in dictionary\n",
            "horse  ->  cheval\n"
          ]
        }
      ]
    },
    {
      "cell_type": "code",
      "source": [
        "# Keys of a dictionary:\n",
        "\n",
        "\n",
        "# A dictionary is not a sequence type - the for loop is useless with it.\n",
        "\n",
        "# But we can adapt any dictionary to the for loop requirements (in other words,\n",
        "# building an intermediate link between the dictionary and a temporary sequence entity).\n",
        "# \n",
        "# The first of them is a method named keys(), possessed by each dictionary. \n",
        "# The method returns an iterable object consisting of all the keys gathered within the \n",
        "# dictionary. Having a group of keys enables you to access the whole dictionary in \n",
        "# an easy and handy way.\n",
        "\n",
        "for key in dict.keys():\n",
        "    print(key, \"->\", dict[key])\n",
        "\n",
        "# Also valid but NOT necessary for > Python 3.6x:\n",
        "\n",
        "for key in sorted(dict.keys()):\n",
        "    print(key, \"->\", dict[key])\n",
        "\n",
        "list_keys = []\n",
        "list_keys2 = []\n",
        "list_keys = dict.keys() # This is NOT how we gather the list of keys:\n",
        "print(\"\\nList with keys: \", list_keys)\n",
        "\n",
        "# ATTENTION: the following code is not going to work \n",
        "# (ERROR -> TypeError: 'list' object is not callable) if  \"list\" has been\n",
        "# declared as a variable (or function) somewhere else. \n",
        "# \"list()\" is function in Python:\n",
        "\n",
        "keys_list = []\n",
        "my_dict = {'a': 1, 'b': 2, 'c': 3}\n",
        "# keys_list = list(my_dict.keys()) # NOT VALID\n",
        "\n",
        "# The good way:\n",
        "for key in my_dict.keys():\n",
        "  keys_list.append(key)\n",
        "\n",
        "print('List of keys \"keys_list\" = ', keys_list)\n",
        "\n"
      ],
      "metadata": {
        "colab": {
          "base_uri": "https://localhost:8080/"
        },
        "id": "lEY0YIQz-bWd",
        "outputId": "84c219b2-cbf3-4e1d-881b-8430356a0256"
      },
      "execution_count": 81,
      "outputs": [
        {
          "output_type": "stream",
          "name": "stdout",
          "text": [
            "cat -> chat\n",
            "dog -> chien\n",
            "horse -> cheval\n",
            "cat -> chat\n",
            "dog -> chien\n",
            "horse -> cheval\n",
            "\n",
            "List with keys:  dict_keys(['cat', 'dog', 'horse'])\n",
            "List of keys \"keys_list\" =  ['a', 'b', 'c']\n"
          ]
        }
      ]
    },
    {
      "cell_type": "code",
      "source": [
        "# Dictionary´s \"ITEMS\" and \"VALUES\"\n",
        "\n",
        "# Another way is based on using a dictionary's method named items(). \n",
        "# The method returns tuples (this is the first example where tuples are \n",
        "# something more than just an example of themselves) where each tuple is a \n",
        "# key-value pair. \n",
        "\n",
        "\n",
        "dictionary = {\"cat\": \"chat\", \"dog\": \"chien\", \"horse\": \"cheval\"}\n",
        "print('\\nUsing \"items()\"')\n",
        "for english, french in dictionary.items():\n",
        "    print(english, \"->\", french)\n",
        "\n",
        "# There is also a method named values(), which WORKS SIMILARLY to keys(), \n",
        "# but returns values.\n",
        "\n",
        "dictionary = {\"cat\": \"chat\", \"dog\": \"chien\", \"horse\": \"cheval\"}\n",
        "print('\\nPrinting the keys \"values()\": ')\n",
        "for french in dictionary.values():\n",
        "    print(french)"
      ],
      "metadata": {
        "colab": {
          "base_uri": "https://localhost:8080/"
        },
        "id": "baHp6pKtSY1Q",
        "outputId": "1a07b8de-de04-4b24-98e9-f58696d3a886"
      },
      "execution_count": 87,
      "outputs": [
        {
          "output_type": "stream",
          "name": "stdout",
          "text": [
            "\n",
            "Using \"items()\"\n",
            "cat -> chat\n",
            "dog -> chien\n",
            "horse -> cheval\n",
            "\n",
            "Printing the keys \"values()\": \n",
            "chat\n",
            "chien\n",
            "cheval\n"
          ]
        }
      ]
    },
    {
      "cell_type": "markdown",
      "source": [
        "# Ejemplo uso librería \"drive\" de google.colab \n",
        "\n"
      ],
      "metadata": {
        "id": "5n1g8O5Sz8to"
      }
    },
    {
      "cell_type": "code",
      "source": [
        "from google.colab import drive\n",
        "drive.mount('/content/drive')"
      ],
      "metadata": {
        "colab": {
          "base_uri": "https://localhost:8080/"
        },
        "id": "FwxVaznm1it0",
        "outputId": "4c824a22-d441-4430-b48e-963c7bf0b864"
      },
      "execution_count": null,
      "outputs": [
        {
          "output_type": "stream",
          "name": "stdout",
          "text": [
            "Mounted at /content/drive\n"
          ]
        }
      ]
    },
    {
      "cell_type": "code",
      "source": [
        "import pandas as pd\n",
        "\n",
        "df1 = pd.read_csv ('/content/drive/MyDrive/UOC/Master Bioinformatica/SEMESTRE 2/3-MACHINE LEARNING/PRACTICAS/oh_enc.csv')\n",
        "df2 = pd.read_csv ('/content/drive/MyDrive/UOC/Master Bioinformatica/SEMESTRE 2/3-MACHINE LEARNING/PRACTICAS/data4.csv')\n",
        "\n",
        "print (df1)\n",
        "print ('\\n\\n/////////////////////////////////////\\n\\n')\n",
        "print (df2)"
      ],
      "metadata": {
        "colab": {
          "base_uri": "https://localhost:8080/"
        },
        "id": "ZtIIrrue2B5j",
        "outputId": "7852be13-e279-4258-cba9-38eda59d1760"
      },
      "execution_count": null,
      "outputs": [
        {
          "output_type": "stream",
          "name": "stdout",
          "text": [
            "      V1  V2  V3  V4  V5  V6  V7  V8  V9  V10  ...  V331  V332  V333  V334  \\\n",
            "0      0   0   0   0   0   0   0   0   0    0  ...     0     0     0     0   \n",
            "1      0   0   0   0   0   0   0   0   0    0  ...     0     0     0     1   \n",
            "2      0   0   0   0   0   0   0   0   0    0  ...     0     0     0     0   \n",
            "3      0   0   0   0   0   0   0   0   0    0  ...     0     0     0     0   \n",
            "4      0   0   0   0   0   0   0   0   0    0  ...     0     0     0     0   \n",
            "...   ..  ..  ..  ..  ..  ..  ..  ..  ..  ...  ...   ...   ...   ...   ...   \n",
            "9995   0   0   0   0   0   0   0   0   0    1  ...     0     0     0     0   \n",
            "9996   0   0   0   0   0   0   0   0   0    0  ...     1     0     0     0   \n",
            "9997   0   0   0   0   0   0   0   0   0    1  ...     0     0     0     0   \n",
            "9998   0   0   0   0   0   0   0   0   0    0  ...     0     0     0     0   \n",
            "9999   0   0   0   0   0   0   0   0   0    1  ...     0     0     0     0   \n",
            "\n",
            "      V335  V336  V337  V338  V339  V340  \n",
            "0        1     0     0     0     0     0  \n",
            "1        0     0     0     0     0     0  \n",
            "2        0     0     0     0     0     0  \n",
            "3        0     0     0     0     0     0  \n",
            "4        0     1     0     0     0     0  \n",
            "...    ...   ...   ...   ...   ...   ...  \n",
            "9995     0     0     0     0     1     0  \n",
            "9996     0     0     0     0     0     0  \n",
            "9997     0     0     0     0     0     0  \n",
            "9998     0     0     0     0     0     0  \n",
            "9999     0     0     0     0     0     0  \n",
            "\n",
            "[10000 rows x 340 columns]\n",
            "\n",
            "\n",
            "/////////////////////////////////////\n",
            "\n",
            "\n",
            "     V1;\"V2\";\"V3\";\"V4\";\"V5\";\"V6\";\"V7\";\"V8\";\"V9\";\"V10\";\"V11\";\"V12\";\"V13\";\"V14\";\"V15\";\"V16\";\"V17\";\"V18\"\n",
            "0     S;\"S\";\"P\";\"F\";\"S\";\"Q\";\"K\";\"G\";\"D\";\"E\";\"R\";\"Y\";...                                              \n",
            "1     L;\"L\";\"Q\";\"Y\";\"Y\";\"G\";\"M\";\"T\";\"E\";\"M\";\"N\";\"Y\";...                                              \n",
            "2     L;\"L\";\"N\";\"P\";\"K\";\"K\";\"Y\";\"I\";\"P\";\"G\";\"T\";\"K\";...                                              \n",
            "3     L;\"L\";\"N\";\"A\";\"K\";\"G\";\"E\";\"T\";\"F\";\"E\";\"V\";\"A\";...                                              \n",
            "4     T;\"V\";\"S\";\"F\";\"E\";\"A\";\"T\";\"F\";\"A\";\"F\";\"L\";\"I\";...                                              \n",
            "...                                                 ...                                              \n",
            "9995  I;\"V\";\"S\";\"W\";\"G\";\"S\";\"G\";\"C\";\"A\";\"Q\";\"K\";\"N\";...                                              \n",
            "9996  S;\"V\";\"K\";\"L\";\"N\";\"H\";\"N\";\"R\";\"A\";\"K\";\"S\";\"M\";...                                              \n",
            "9997  I;\"P\";\"W\";\"S\";\"I\";\"Y\";\"S\";\"A\";\"I\";\"F\";\"E\";\"I\";...                                              \n",
            "9998  P;\"T\";\"D\";\"S\";\"E\";\"L\";\"Y\";\"K\";\"L\";\"I\";\"A\";\"S\";...                                              \n",
            "9999  I;\"V\";\"R\";\"K\";\"V\";\"N\";\"A\";\"E\";\"G\";\"S\";\"V\";\"D\";...                                              \n",
            "\n",
            "[10000 rows x 1 columns]\n"
          ]
        }
      ]
    }
  ]
}