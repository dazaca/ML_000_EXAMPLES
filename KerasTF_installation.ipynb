{
  "nbformat": 4,
  "nbformat_minor": 0,
  "metadata": {
    "colab": {
      "name": "InstalacionKerasTF.ipynb",
      "provenance": [],
      "toc_visible": true,
      "authorship_tag": "ABX9TyOrX5v3ZW/uPVu8OwxzkeUc",
      "include_colab_link": true
    },
    "kernelspec": {
      "name": "ir",
      "display_name": "R"
    },
    "language_info": {
      "name": "R"
    }
  },
  "cells": [
    {
      "cell_type": "markdown",
      "metadata": {
        "id": "view-in-github",
        "colab_type": "text"
      },
      "source": [
        "<a href=\"https://colab.research.google.com/github/dazaca/ML_000_EXAMPLES/blob/main/KerasTF_installation.ipynb\" target=\"_parent\"><img src=\"https://colab.research.google.com/assets/colab-badge.svg\" alt=\"Open In Colab\"/></a>"
      ]
    },
    {
      "cell_type": "code",
      "metadata": {
        "colab": {
          "base_uri": "https://localhost:8080/"
        },
        "id": "DwnGbYSE7FFK",
        "outputId": "27adb172-4fa6-47b6-b953-3e6f471ace81"
      },
      "source": [
        "install.packages(\"keras\")"
      ],
      "execution_count": 2,
      "outputs": [
        {
          "output_type": "stream",
          "name": "stderr",
          "text": [
            "Installing package into ‘/usr/local/lib/R/site-library’\n",
            "(as ‘lib’ is unspecified)\n",
            "\n",
            "also installing the dependencies ‘here’, ‘png’, ‘config’, ‘tfautograph’, ‘reticulate’, ‘tensorflow’, ‘tfruns’, ‘zeallot’\n",
            "\n",
            "\n"
          ]
        }
      ]
    },
    {
      "cell_type": "code",
      "metadata": {
        "colab": {
          "base_uri": "https://localhost:8080/"
        },
        "id": "8BXnURLF8zIt",
        "outputId": "7340415a-3d1d-499a-a213-3b142733fd11"
      },
      "source": [
        "install.packages(\"reticulate\")\n"
      ],
      "execution_count": 4,
      "outputs": [
        {
          "output_type": "stream",
          "name": "stderr",
          "text": [
            "Installing package into ‘/usr/local/lib/R/site-library’\n",
            "(as ‘lib’ is unspecified)\n",
            "\n"
          ]
        }
      ]
    },
    {
      "cell_type": "markdown",
      "metadata": {
        "id": "rzwGuxYKBLnR"
      },
      "source": [
        "## Preparing the Data\n",
        "\n",
        "The MNIST dataset is included with Keras and can be accessed using the dataset_mnist() function. Here we load the dataset then create variables for our test and training data:"
      ]
    },
    {
      "cell_type": "code",
      "metadata": {
        "id": "3ZIdef_b9eZk"
      },
      "source": [
        "library(reticulate)\n"
      ],
      "execution_count": 6,
      "outputs": []
    },
    {
      "cell_type": "code",
      "metadata": {
        "colab": {
          "base_uri": "https://localhost:8080/"
        },
        "id": "E7HaLt7S93VZ",
        "outputId": "607f15bc-35c6-4519-c07a-a492752c75dd"
      },
      "source": [
        "library(keras)\n",
        "mnist <- dataset_mnist()"
      ],
      "execution_count": 8,
      "outputs": [
        {
          "output_type": "stream",
          "name": "stderr",
          "text": [
            "Loaded Tensorflow version 2.7.0\n",
            "\n"
          ]
        }
      ]
    },
    {
      "cell_type": "code",
      "metadata": {
        "id": "tGgLazkQ-E8_"
      },
      "source": [
        "x_train <- mnist$train$x\n",
        "y_train <- mnist$train$y\n",
        "x_test <- mnist$test$x\n",
        "y_test <- mnist$test$y"
      ],
      "execution_count": 9,
      "outputs": []
    },
    {
      "cell_type": "markdown",
      "metadata": {
        "id": "tMwuWom6AmdC"
      },
      "source": [
        "The **x data** is a 3-d array (images,width,height) of grayscale values. To prepare the data for training we convert the 3-d arrays into matrices by reshaping width and height into a single dimension (28x28 images are flattened into length 784 vectors). Then, we convert the grayscale values from integers ranging between 0 to 255 into floating point values ranging between 0 and 1:"
      ]
    },
    {
      "cell_type": "code",
      "metadata": {
        "id": "TLjlcT4vAtDT"
      },
      "source": [
        "# reshape\n",
        "dim(x_train) <- c(nrow(x_train), 784)\n",
        "dim(x_test) <- c(nrow(x_test), 784)\n",
        "# rescale\n",
        "x_train <- x_train / 255\n",
        "x_test <- x_test / 255"
      ],
      "execution_count": 15,
      "outputs": []
    },
    {
      "cell_type": "markdown",
      "metadata": {
        "id": "sMT7RuOmA0wU"
      },
      "source": [
        "\n",
        "The **y data** is an integer vector with values ranging from 0 to 9. To prepare this data for training we one-hot encode the vectors into binary class matrices using the Keras to_categorical() function:"
      ]
    },
    {
      "cell_type": "code",
      "metadata": {
        "id": "Iqrv4zIkA1rs"
      },
      "source": [
        "y_train <- to_categorical(y_train, 10)\n",
        "y_test <- to_categorical(y_test, 10)"
      ],
      "execution_count": 16,
      "outputs": []
    },
    {
      "cell_type": "markdown",
      "metadata": {
        "id": "ZvNKKVAxA_vd"
      },
      "source": [
        "## Defining the model\n",
        "\n",
        "The core data structure of Keras is a model, a way to organize layers. The simplest type of model is the sequential model, a linear stack of layers.\n",
        "\n",
        "We begin by creating a sequential model and then adding layers using the pipe (%>%) operator:"
      ]
    },
    {
      "cell_type": "code",
      "metadata": {
        "id": "B_7NKGgCBA1L"
      },
      "source": [
        "model <- keras_model_sequential() \n",
        "model %>% \n",
        "  layer_dense(units = 256, activation = \"relu\", input_shape = c(784)) %>% \n",
        "  layer_dropout(rate = 0.4) %>% \n",
        "  layer_dense(units = 128, activation = \"relu\") %>%\n",
        "  layer_dropout(rate = 0.3) %>%\n",
        "  layer_dense(units = 10, activation = \"softmax\")"
      ],
      "execution_count": 17,
      "outputs": []
    },
    {
      "cell_type": "markdown",
      "metadata": {
        "id": "HG_gECNvBz__"
      },
      "source": [
        "The input_shape argument to the first layer specifies the shape of the input data (a length 784 numeric vector representing a grayscale image). The final layer outputs a length 10 numeric vector (probabilities for each digit) using a softmax activation function.\n",
        "\n",
        "Use the summary() function to print the details of the model:"
      ]
    },
    {
      "cell_type": "code",
      "metadata": {
        "colab": {
          "base_uri": "https://localhost:8080/"
        },
        "id": "YtN1NJcbB7pt",
        "outputId": "faa100dc-54d9-401e-c7b5-f7f26821f0c3"
      },
      "source": [
        "summary(model)"
      ],
      "execution_count": 18,
      "outputs": [
        {
          "output_type": "stream",
          "name": "stdout",
          "text": [
            "Model: \"sequential\"\n",
            "________________________________________________________________________________\n",
            " Layer (type)                       Output Shape                    Param #     \n",
            "================================================================================\n",
            " dense_2 (Dense)                    (None, 256)                     200960      \n",
            "                                                                                \n",
            " dropout_1 (Dropout)                (None, 256)                     0           \n",
            "                                                                                \n",
            " dense_1 (Dense)                    (None, 128)                     32896       \n",
            "                                                                                \n",
            " dropout (Dropout)                  (None, 128)                     0           \n",
            "                                                                                \n",
            " dense (Dense)                      (None, 10)                      1290        \n",
            "                                                                                \n",
            "================================================================================\n",
            "Total params: 235,146\n",
            "Trainable params: 235,146\n",
            "Non-trainable params: 0\n",
            "________________________________________________________________________________\n"
          ]
        }
      ]
    },
    {
      "cell_type": "markdown",
      "metadata": {
        "id": "2v0_T6fYCFmV"
      },
      "source": [
        "Next, compile the model with appropriate loss function, optimizer, and metrics:"
      ]
    },
    {
      "cell_type": "code",
      "metadata": {
        "id": "oqWM-8kDCHS5"
      },
      "source": [
        "model %>% compile(\n",
        "  loss = \"categorical_crossentropy\",\n",
        "  optimizer = optimizer_rmsprop(),\n",
        "  metrics = c(\"accuracy\")\n",
        ")"
      ],
      "execution_count": 19,
      "outputs": []
    },
    {
      "cell_type": "markdown",
      "metadata": {
        "id": "s0ljRbhfCRan"
      },
      "source": [
        "## Training and Evaluation\n",
        "\n",
        "Use the fit() function to train the model for 30 epochs using batches of 128 images:"
      ]
    },
    {
      "cell_type": "code",
      "metadata": {
        "id": "vzZx6XxeCS7i"
      },
      "source": [
        "history <- model %>% fit(\n",
        "  x_train, y_train, \n",
        "  epochs = 30, batch_size = 128, \n",
        "  validation_split = 0.2\n",
        ")"
      ],
      "execution_count": 20,
      "outputs": []
    },
    {
      "cell_type": "markdown",
      "metadata": {
        "id": "HcnTD8bACrxD"
      },
      "source": [
        "The history object returned by fit() includes loss and accuracy metrics which we can plot:"
      ]
    },
    {
      "cell_type": "code",
      "metadata": {
        "colab": {
          "base_uri": "https://localhost:8080/",
          "height": 472
        },
        "id": "U9EC5yXACteO",
        "outputId": "f183c7a9-f6cb-457a-b396-53af8f2c1aa2"
      },
      "source": [
        "plot(history)"
      ],
      "execution_count": 21,
      "outputs": [
        {
          "output_type": "stream",
          "name": "stderr",
          "text": [
            "`geom_smooth()` using formula 'y ~ x'\n",
            "\n"
          ]
        },
        {
          "output_type": "display_data",
          "data": {
            "image/png": "[encoded data removed]",
            "text/plain": [
              "plot without title"
            ]
          },
          "metadata": {
            "image/png": {
              "width": 420,
              "height": 420
            }
          }
        }
      ]
    },
    {
      "cell_type": "markdown",
      "metadata": {
        "id": "aMhI96QhDMdq"
      },
      "source": [
        "Evaluate the model’s performance on the test data:"
      ]
    },
    {
      "cell_type": "code",
      "metadata": {
        "colab": {
          "base_uri": "https://localhost:8080/",
          "height": 34
        },
        "id": "n76469jxDRUZ",
        "outputId": "733cb961-bc67-4b17-93c0-1c18d1701179"
      },
      "source": [
        "model %>% evaluate(x_test, y_test,verbose = 0)"
      ],
      "execution_count": 22,
      "outputs": [
        {
          "output_type": "display_data",
          "data": {
            "text/plain": [
              "     loss  accuracy \n",
              "0.1150604 0.9796000 "
            ],
            "text/latex": "\\begin{description*}\n\\item[loss] 0.115060433745384\n\\item[accuracy] 0.979600012302399\n\\end{description*}\n",
            "text/markdown": "loss\n:   0.115060433745384accuracy\n:   0.979600012302399\n\n",
            "text/html": [
              "<style>\n",
              ".dl-inline {width: auto; margin:0; padding: 0}\n",
              ".dl-inline>dt, .dl-inline>dd {float: none; width: auto; display: inline-block}\n",
              ".dl-inline>dt::after {content: \":\\0020\"; padding-right: .5ex}\n",
              ".dl-inline>dt:not(:first-of-type) {padding-left: .5ex}\n",
              "</style><dl class=dl-inline><dt>loss</dt><dd>0.115060433745384</dd><dt>accuracy</dt><dd>0.979600012302399</dd></dl>\n"
            ]
          },
          "metadata": {}
        }
      ]
    },
    {
      "cell_type": "markdown",
      "metadata": {
        "id": "ZuerbtOgDUzM"
      },
      "source": [
        "Generate predictions on new data and show 20 values ..."
      ]
    },
    {
      "cell_type": "code",
      "metadata": {
        "colab": {
          "base_uri": "https://localhost:8080/",
          "height": 34
        },
        "id": "us-7p_BVDa25",
        "outputId": "fd124260-cf25-49fb-90dc-43b09c347814"
      },
      "source": [
        "# model %>% predict_classes(x_test) tensorflow 2.5 o minor\n",
        "y_pred <- model %>% predict(x_test) %>% k_argmax() %>% as.integer()\n",
        "y_pred[1:20]"
      ],
      "execution_count": 23,
      "outputs": [
        {
          "output_type": "display_data",
          "data": {
            "text/plain": [
              " [1] 7 2 1 0 4 1 4 9 5 9 0 6 9 0 1 5 9 7 3 4"
            ],
            "text/latex": "\\begin{enumerate*}\n\\item 7\n\\item 2\n\\item 1\n\\item 0\n\\item 4\n\\item 1\n\\item 4\n\\item 9\n\\item 5\n\\item 9\n\\item 0\n\\item 6\n\\item 9\n\\item 0\n\\item 1\n\\item 5\n\\item 9\n\\item 7\n\\item 3\n\\item 4\n\\end{enumerate*}\n",
            "text/markdown": "1. 7\n2. 2\n3. 1\n4. 0\n5. 4\n6. 1\n7. 4\n8. 9\n9. 5\n10. 9\n11. 0\n12. 6\n13. 9\n14. 0\n15. 1\n16. 5\n17. 9\n18. 7\n19. 3\n20. 4\n\n\n",
            "text/html": [
              "<style>\n",
              ".list-inline {list-style: none; margin:0; padding: 0}\n",
              ".list-inline>li {display: inline-block}\n",
              ".list-inline>li:not(:last-child)::after {content: \"\\00b7\"; padding: 0 .5ex}\n",
              "</style>\n",
              "<ol class=list-inline><li>7</li><li>2</li><li>1</li><li>0</li><li>4</li><li>1</li><li>4</li><li>9</li><li>5</li><li>9</li><li>0</li><li>6</li><li>9</li><li>0</li><li>1</li><li>5</li><li>9</li><li>7</li><li>3</li><li>4</li></ol>\n"
            ]
          },
          "metadata": {}
        }
      ]
    },
    {
      "cell_type": "markdown",
      "metadata": {
        "id": "wBJpbsVfDhHx"
      },
      "source": [
        "Confusion Matrix:"
      ]
    },
    {
      "cell_type": "code",
      "metadata": {
        "colab": {
          "base_uri": "https://localhost:8080/",
          "height": 1000
        },
        "id": "8XGprc8KDkkD",
        "outputId": "ef9a5ea2-b5c9-46b1-d90c-162f8da871d8"
      },
      "source": [
        "y_pred.f<-as.factor(y_pred)\n",
        "y_test.f<-as.factor(mnist$test$y)\n",
        "\n",
        "install.packages(\"caret\")\n",
        "library(caret)\n",
        "confusionMatrix(y_pred.f,y_test.f)"
      ],
      "execution_count": 25,
      "outputs": [
        {
          "output_type": "stream",
          "name": "stderr",
          "text": [
            "Installing package into ‘/usr/local/lib/R/site-library’\n",
            "(as ‘lib’ is unspecified)\n",
            "\n",
            "also installing the dependencies ‘listenv’, ‘parallelly’, ‘future’, ‘globals’, ‘future.apply’, ‘progressr’, ‘numDeriv’, ‘SQUAREM’, ‘lava’, ‘prodlim’, ‘proxy’, ‘iterators’, ‘gower’, ‘ipred’, ‘timeDate’, ‘e1071’, ‘foreach’, ‘ModelMetrics’, ‘plyr’, ‘pROC’, ‘recipes’, ‘reshape2’\n",
            "\n",
            "\n",
            "Loading required package: ggplot2\n",
            "\n",
            "Loading required package: lattice\n",
            "\n",
            "Warning message in system(\"timedatectl\", intern = TRUE):\n",
            "“running command 'timedatectl' had status 1”\n"
          ]
        },
        {
          "output_type": "display_data",
          "data": {
            "text/plain": [
              "Confusion Matrix and Statistics\n",
              "\n",
              "          Reference\n",
              "Prediction    0    1    2    3    4    5    6    7    8    9\n",
              "         0  970    0    3    2    1    2    4    1    4    1\n",
              "         1    1 1126    2    0    0    0    3    4    0    3\n",
              "         2    1    2 1008    3    2    0    0   12    4    0\n",
              "         3    0    0    5  988    0    3    1    3    5    9\n",
              "         4    0    0    2    0  969    1    4    0    5   13\n",
              "         5    1    1    0    6    0  875    4    0    5    1\n",
              "         6    4    2    2    0    3    4  941    0    2    0\n",
              "         7    1    1    6    7    1    2    0 1004    4    5\n",
              "         8    1    3    4    1    0    2    1    0  939    1\n",
              "         9    1    0    0    3    6    3    0    4    6  976\n",
              "\n",
              "Overall Statistics\n",
              "                                          \n",
              "               Accuracy : 0.9796          \n",
              "                 95% CI : (0.9766, 0.9823)\n",
              "    No Information Rate : 0.1135          \n",
              "    P-Value [Acc > NIR] : < 2.2e-16       \n",
              "                                          \n",
              "                  Kappa : 0.9773          \n",
              "                                          \n",
              " Mcnemar's Test P-Value : NA              \n",
              "\n",
              "Statistics by Class:\n",
              "\n",
              "                     Class: 0 Class: 1 Class: 2 Class: 3 Class: 4 Class: 5\n",
              "Sensitivity            0.9898   0.9921   0.9767   0.9782   0.9868   0.9809\n",
              "Specificity            0.9980   0.9985   0.9973   0.9971   0.9972   0.9980\n",
              "Pos Pred Value         0.9818   0.9886   0.9767   0.9744   0.9748   0.9798\n",
              "Neg Pred Value         0.9989   0.9990   0.9973   0.9976   0.9986   0.9981\n",
              "Prevalence             0.0980   0.1135   0.1032   0.1010   0.0982   0.0892\n",
              "Detection Rate         0.0970   0.1126   0.1008   0.0988   0.0969   0.0875\n",
              "Detection Prevalence   0.0988   0.1139   0.1032   0.1014   0.0994   0.0893\n",
              "Balanced Accuracy      0.9939   0.9953   0.9870   0.9877   0.9920   0.9895\n",
              "                     Class: 6 Class: 7 Class: 8 Class: 9\n",
              "Sensitivity            0.9823   0.9767   0.9641   0.9673\n",
              "Specificity            0.9981   0.9970   0.9986   0.9974\n",
              "Pos Pred Value         0.9823   0.9738   0.9863   0.9770\n",
              "Neg Pred Value         0.9981   0.9973   0.9961   0.9963\n",
              "Prevalence             0.0958   0.1028   0.0974   0.1009\n",
              "Detection Rate         0.0941   0.1004   0.0939   0.0976\n",
              "Detection Prevalence   0.0958   0.1031   0.0952   0.0999\n",
              "Balanced Accuracy      0.9902   0.9868   0.9813   0.9824"
            ]
          },
          "metadata": {}
        }
      ]
    }
  ]
}